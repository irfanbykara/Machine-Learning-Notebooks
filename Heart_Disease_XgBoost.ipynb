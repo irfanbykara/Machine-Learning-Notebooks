{
  "nbformat": 4,
  "nbformat_minor": 0,
  "metadata": {
    "colab": {
      "name": "Heart Disease XgBoost.ipynb",
      "provenance": [],
      "collapsed_sections": [],
      "authorship_tag": "ABX9TyMYSD/zqqlUGehDUAM+H3kb",
      "include_colab_link": true
    },
    "kernelspec": {
      "name": "python3",
      "display_name": "Python 3"
    },
    "language_info": {
      "name": "python"
    }
  },
  "cells": [
    {
      "cell_type": "markdown",
      "metadata": {
        "id": "view-in-github",
        "colab_type": "text"
      },
      "source": [
        "<a href=\"https://colab.research.google.com/github/irfanbykara/Machine-Learning-Notebooks/blob/main/Heart_Disease_XgBoost.ipynb\" target=\"_parent\"><img src=\"https://colab.research.google.com/assets/colab-badge.svg\" alt=\"Open In Colab\"/></a>"
      ]
    },
    {
      "cell_type": "code",
      "metadata": {
        "colab": {
          "base_uri": "https://localhost:8080/"
        },
        "id": "Y05hcRPFpiH_",
        "outputId": "df15c08c-9f0a-4f3f-dfa7-b65b6b784f12"
      },
      "source": [
        "import numpy as np \n",
        "import pandas as pd\n",
        "import seaborn as sns\n",
        "import matplotlib.pyplot as plt\n",
        "\n",
        "print('Importing Done...')"
      ],
      "execution_count": null,
      "outputs": [
        {
          "output_type": "stream",
          "name": "stdout",
          "text": [
            "Importing Done...\n"
          ]
        }
      ]
    },
    {
      "cell_type": "code",
      "metadata": {
        "colab": {
          "base_uri": "https://localhost:8080/",
          "height": 204
        },
        "id": "8vAajjOCpvlU",
        "outputId": "a3606848-fb27-47af-946b-b80a69613088"
      },
      "source": [
        "raw_data = pd.read_csv('heart.csv')\n",
        "raw_data.head()"
      ],
      "execution_count": null,
      "outputs": [
        {
          "output_type": "execute_result",
          "data": {
            "text/html": [
              "<div>\n",
              "<style scoped>\n",
              "    .dataframe tbody tr th:only-of-type {\n",
              "        vertical-align: middle;\n",
              "    }\n",
              "\n",
              "    .dataframe tbody tr th {\n",
              "        vertical-align: top;\n",
              "    }\n",
              "\n",
              "    .dataframe thead th {\n",
              "        text-align: right;\n",
              "    }\n",
              "</style>\n",
              "<table border=\"1\" class=\"dataframe\">\n",
              "  <thead>\n",
              "    <tr style=\"text-align: right;\">\n",
              "      <th></th>\n",
              "      <th>Age</th>\n",
              "      <th>Sex</th>\n",
              "      <th>ChestPainType</th>\n",
              "      <th>RestingBP</th>\n",
              "      <th>Cholesterol</th>\n",
              "      <th>FastingBS</th>\n",
              "      <th>RestingECG</th>\n",
              "      <th>MaxHR</th>\n",
              "      <th>ExerciseAngina</th>\n",
              "      <th>Oldpeak</th>\n",
              "      <th>ST_Slope</th>\n",
              "      <th>HeartDisease</th>\n",
              "    </tr>\n",
              "  </thead>\n",
              "  <tbody>\n",
              "    <tr>\n",
              "      <th>0</th>\n",
              "      <td>40</td>\n",
              "      <td>M</td>\n",
              "      <td>ATA</td>\n",
              "      <td>140</td>\n",
              "      <td>289</td>\n",
              "      <td>0</td>\n",
              "      <td>Normal</td>\n",
              "      <td>172</td>\n",
              "      <td>N</td>\n",
              "      <td>0.0</td>\n",
              "      <td>Up</td>\n",
              "      <td>0</td>\n",
              "    </tr>\n",
              "    <tr>\n",
              "      <th>1</th>\n",
              "      <td>49</td>\n",
              "      <td>F</td>\n",
              "      <td>NAP</td>\n",
              "      <td>160</td>\n",
              "      <td>180</td>\n",
              "      <td>0</td>\n",
              "      <td>Normal</td>\n",
              "      <td>156</td>\n",
              "      <td>N</td>\n",
              "      <td>1.0</td>\n",
              "      <td>Flat</td>\n",
              "      <td>1</td>\n",
              "    </tr>\n",
              "    <tr>\n",
              "      <th>2</th>\n",
              "      <td>37</td>\n",
              "      <td>M</td>\n",
              "      <td>ATA</td>\n",
              "      <td>130</td>\n",
              "      <td>283</td>\n",
              "      <td>0</td>\n",
              "      <td>ST</td>\n",
              "      <td>98</td>\n",
              "      <td>N</td>\n",
              "      <td>0.0</td>\n",
              "      <td>Up</td>\n",
              "      <td>0</td>\n",
              "    </tr>\n",
              "    <tr>\n",
              "      <th>3</th>\n",
              "      <td>48</td>\n",
              "      <td>F</td>\n",
              "      <td>ASY</td>\n",
              "      <td>138</td>\n",
              "      <td>214</td>\n",
              "      <td>0</td>\n",
              "      <td>Normal</td>\n",
              "      <td>108</td>\n",
              "      <td>Y</td>\n",
              "      <td>1.5</td>\n",
              "      <td>Flat</td>\n",
              "      <td>1</td>\n",
              "    </tr>\n",
              "    <tr>\n",
              "      <th>4</th>\n",
              "      <td>54</td>\n",
              "      <td>M</td>\n",
              "      <td>NAP</td>\n",
              "      <td>150</td>\n",
              "      <td>195</td>\n",
              "      <td>0</td>\n",
              "      <td>Normal</td>\n",
              "      <td>122</td>\n",
              "      <td>N</td>\n",
              "      <td>0.0</td>\n",
              "      <td>Up</td>\n",
              "      <td>0</td>\n",
              "    </tr>\n",
              "  </tbody>\n",
              "</table>\n",
              "</div>"
            ],
            "text/plain": [
              "   Age Sex ChestPainType  ...  Oldpeak  ST_Slope  HeartDisease\n",
              "0   40   M           ATA  ...      0.0        Up             0\n",
              "1   49   F           NAP  ...      1.0      Flat             1\n",
              "2   37   M           ATA  ...      0.0        Up             0\n",
              "3   48   F           ASY  ...      1.5      Flat             1\n",
              "4   54   M           NAP  ...      0.0        Up             0\n",
              "\n",
              "[5 rows x 12 columns]"
            ]
          },
          "metadata": {},
          "execution_count": 86
        }
      ]
    },
    {
      "cell_type": "code",
      "metadata": {
        "colab": {
          "base_uri": "https://localhost:8080/",
          "height": 282
        },
        "id": "z6kLSsTwp2yb",
        "outputId": "7ae4961f-2e52-4f69-a67e-3a261e66da61"
      },
      "source": [
        "raw_data['HeartDisease'].value_counts().plot(kind = 'barh')"
      ],
      "execution_count": null,
      "outputs": [
        {
          "output_type": "execute_result",
          "data": {
            "text/plain": [
              "<matplotlib.axes._subplots.AxesSubplot at 0x7f227c499450>"
            ]
          },
          "metadata": {},
          "execution_count": 87
        },
        {
          "output_type": "display_data",
          "data": {
            "image/png": "[encoded data removed]",
            "text/plain": [
              "<Figure size 432x288 with 1 Axes>"
            ]
          },
          "metadata": {
            "needs_background": "light"
          }
        }
      ]
    },
    {
      "cell_type": "code",
      "metadata": {
        "colab": {
          "base_uri": "https://localhost:8080/"
        },
        "id": "KPHMGzZkqIKZ",
        "outputId": "5908a82c-3a55-406a-cbe4-f40e9ec5af08"
      },
      "source": [
        "raw_data.isnull().sum()"
      ],
      "execution_count": null,
      "outputs": [
        {
          "output_type": "execute_result",
          "data": {
            "text/plain": [
              "Age               0\n",
              "Sex               0\n",
              "ChestPainType     0\n",
              "RestingBP         0\n",
              "Cholesterol       0\n",
              "FastingBS         0\n",
              "RestingECG        0\n",
              "MaxHR             0\n",
              "ExerciseAngina    0\n",
              "Oldpeak           0\n",
              "ST_Slope          0\n",
              "HeartDisease      0\n",
              "dtype: int64"
            ]
          },
          "metadata": {},
          "execution_count": 88
        }
      ]
    },
    {
      "cell_type": "code",
      "metadata": {
        "colab": {
          "base_uri": "https://localhost:8080/",
          "height": 297
        },
        "id": "sJkvG3moqL_M",
        "outputId": "3a4d58b4-1206-446c-964f-e2fa6184c6c0"
      },
      "source": [
        "raw_data.describe()"
      ],
      "execution_count": null,
      "outputs": [
        {
          "output_type": "execute_result",
          "data": {
            "text/html": [
              "<div>\n",
              "<style scoped>\n",
              "    .dataframe tbody tr th:only-of-type {\n",
              "        vertical-align: middle;\n",
              "    }\n",
              "\n",
              "    .dataframe tbody tr th {\n",
              "        vertical-align: top;\n",
              "    }\n",
              "\n",
              "    .dataframe thead th {\n",
              "        text-align: right;\n",
              "    }\n",
              "</style>\n",
              "<table border=\"1\" class=\"dataframe\">\n",
              "  <thead>\n",
              "    <tr style=\"text-align: right;\">\n",
              "      <th></th>\n",
              "      <th>Age</th>\n",
              "      <th>RestingBP</th>\n",
              "      <th>Cholesterol</th>\n",
              "      <th>FastingBS</th>\n",
              "      <th>MaxHR</th>\n",
              "      <th>Oldpeak</th>\n",
              "      <th>HeartDisease</th>\n",
              "    </tr>\n",
              "  </thead>\n",
              "  <tbody>\n",
              "    <tr>\n",
              "      <th>count</th>\n",
              "      <td>918.000000</td>\n",
              "      <td>918.000000</td>\n",
              "      <td>918.000000</td>\n",
              "      <td>918.000000</td>\n",
              "      <td>918.000000</td>\n",
              "      <td>918.000000</td>\n",
              "      <td>918.000000</td>\n",
              "    </tr>\n",
              "    <tr>\n",
              "      <th>mean</th>\n",
              "      <td>53.510893</td>\n",
              "      <td>132.396514</td>\n",
              "      <td>198.799564</td>\n",
              "      <td>0.233115</td>\n",
              "      <td>136.809368</td>\n",
              "      <td>0.887364</td>\n",
              "      <td>0.553377</td>\n",
              "    </tr>\n",
              "    <tr>\n",
              "      <th>std</th>\n",
              "      <td>9.432617</td>\n",
              "      <td>18.514154</td>\n",
              "      <td>109.384145</td>\n",
              "      <td>0.423046</td>\n",
              "      <td>25.460334</td>\n",
              "      <td>1.066570</td>\n",
              "      <td>0.497414</td>\n",
              "    </tr>\n",
              "    <tr>\n",
              "      <th>min</th>\n",
              "      <td>28.000000</td>\n",
              "      <td>0.000000</td>\n",
              "      <td>0.000000</td>\n",
              "      <td>0.000000</td>\n",
              "      <td>60.000000</td>\n",
              "      <td>-2.600000</td>\n",
              "      <td>0.000000</td>\n",
              "    </tr>\n",
              "    <tr>\n",
              "      <th>25%</th>\n",
              "      <td>47.000000</td>\n",
              "      <td>120.000000</td>\n",
              "      <td>173.250000</td>\n",
              "      <td>0.000000</td>\n",
              "      <td>120.000000</td>\n",
              "      <td>0.000000</td>\n",
              "      <td>0.000000</td>\n",
              "    </tr>\n",
              "    <tr>\n",
              "      <th>50%</th>\n",
              "      <td>54.000000</td>\n",
              "      <td>130.000000</td>\n",
              "      <td>223.000000</td>\n",
              "      <td>0.000000</td>\n",
              "      <td>138.000000</td>\n",
              "      <td>0.600000</td>\n",
              "      <td>1.000000</td>\n",
              "    </tr>\n",
              "    <tr>\n",
              "      <th>75%</th>\n",
              "      <td>60.000000</td>\n",
              "      <td>140.000000</td>\n",
              "      <td>267.000000</td>\n",
              "      <td>0.000000</td>\n",
              "      <td>156.000000</td>\n",
              "      <td>1.500000</td>\n",
              "      <td>1.000000</td>\n",
              "    </tr>\n",
              "    <tr>\n",
              "      <th>max</th>\n",
              "      <td>77.000000</td>\n",
              "      <td>200.000000</td>\n",
              "      <td>603.000000</td>\n",
              "      <td>1.000000</td>\n",
              "      <td>202.000000</td>\n",
              "      <td>6.200000</td>\n",
              "      <td>1.000000</td>\n",
              "    </tr>\n",
              "  </tbody>\n",
              "</table>\n",
              "</div>"
            ],
            "text/plain": [
              "              Age   RestingBP  ...     Oldpeak  HeartDisease\n",
              "count  918.000000  918.000000  ...  918.000000    918.000000\n",
              "mean    53.510893  132.396514  ...    0.887364      0.553377\n",
              "std      9.432617   18.514154  ...    1.066570      0.497414\n",
              "min     28.000000    0.000000  ...   -2.600000      0.000000\n",
              "25%     47.000000  120.000000  ...    0.000000      0.000000\n",
              "50%     54.000000  130.000000  ...    0.600000      1.000000\n",
              "75%     60.000000  140.000000  ...    1.500000      1.000000\n",
              "max     77.000000  200.000000  ...    6.200000      1.000000\n",
              "\n",
              "[8 rows x 7 columns]"
            ]
          },
          "metadata": {},
          "execution_count": 89
        }
      ]
    },
    {
      "cell_type": "code",
      "metadata": {
        "colab": {
          "base_uri": "https://localhost:8080/",
          "height": 384
        },
        "id": "cM9BhVE4zBra",
        "outputId": "c8145c26-dd16-4577-a520-e2f47366cfac"
      },
      "source": [
        "sns.distplot(raw_data['Cholesterol'])"
      ],
      "execution_count": null,
      "outputs": [
        {
          "output_type": "stream",
          "name": "stderr",
          "text": [
            "/usr/local/lib/python3.7/dist-packages/seaborn/distributions.py:2619: FutureWarning:\n",
            "\n",
            "`distplot` is a deprecated function and will be removed in a future version. Please adapt your code to use either `displot` (a figure-level function with similar flexibility) or `histplot` (an axes-level function for histograms).\n",
            "\n"
          ]
        },
        {
          "output_type": "execute_result",
          "data": {
            "text/plain": [
              "<matplotlib.axes._subplots.AxesSubplot at 0x7f227c434f10>"
            ]
          },
          "metadata": {},
          "execution_count": 90
        },
        {
          "output_type": "display_data",
          "data": {
            "image/png": "[encoded data removed]",
            "text/plain": [
              "<Figure size 432x288 with 1 Axes>"
            ]
          },
          "metadata": {
            "needs_background": "light"
          }
        }
      ]
    },
    {
      "cell_type": "code",
      "metadata": {
        "id": "lqq4rRT1zSgN"
      },
      "source": [
        "# cholesterol_mean = raw_data['Cholesterol'].mean()\n",
        "# cholesterol_mean"
      ],
      "execution_count": null,
      "outputs": []
    },
    {
      "cell_type": "code",
      "metadata": {
        "id": "mAQLWycozShm"
      },
      "source": [
        "raw_data['Cholesterol']=raw_data.Cholesterol.mask(raw_data.Cholesterol == 0,cholesterol_mean)\n"
      ],
      "execution_count": null,
      "outputs": []
    },
    {
      "cell_type": "code",
      "metadata": {
        "colab": {
          "base_uri": "https://localhost:8080/",
          "height": 388
        },
        "id": "IKytmJ6bzufi",
        "outputId": "718d0145-f0bf-4f50-ceec-80a1a5d1ff7a"
      },
      "source": [
        "sns.distplot(raw_data['Cholesterol'])"
      ],
      "execution_count": null,
      "outputs": [
        {
          "output_type": "stream",
          "name": "stderr",
          "text": [
            "/usr/local/lib/python3.7/dist-packages/seaborn/distributions.py:2619: FutureWarning:\n",
            "\n",
            "`distplot` is a deprecated function and will be removed in a future version. Please adapt your code to use either `displot` (a figure-level function with similar flexibility) or `histplot` (an axes-level function for histograms).\n",
            "\n"
          ]
        },
        {
          "output_type": "execute_result",
          "data": {
            "text/plain": [
              "<matplotlib.axes._subplots.AxesSubplot at 0x7f227c3b56d0>"
            ]
          },
          "metadata": {},
          "execution_count": 93
        },
        {
          "output_type": "display_data",
          "data": {
            "image/png": "[encoded data removed]",
            "text/plain": [
              "<Figure size 432x288 with 1 Axes>"
            ]
          },
          "metadata": {
            "needs_background": "light"
          }
        }
      ]
    },
    {
      "cell_type": "code",
      "metadata": {
        "id": "Q_8JiIi3r-X9"
      },
      "source": [
        "data_with_dummies = pd.get_dummies(raw_data, ['Sex','ChestPainType','RestingECG','ExerciseAngina','ST_Slope'], drop_first=True)"
      ],
      "execution_count": null,
      "outputs": []
    },
    {
      "cell_type": "code",
      "metadata": {
        "colab": {
          "base_uri": "https://localhost:8080/",
          "height": 439
        },
        "id": "sDaop4agq1wU",
        "outputId": "5885b05b-f70e-489d-f614-218245accb11"
      },
      "source": [
        "data_with_dummies"
      ],
      "execution_count": null,
      "outputs": [
        {
          "output_type": "execute_result",
          "data": {
            "text/html": [
              "<div>\n",
              "<style scoped>\n",
              "    .dataframe tbody tr th:only-of-type {\n",
              "        vertical-align: middle;\n",
              "    }\n",
              "\n",
              "    .dataframe tbody tr th {\n",
              "        vertical-align: top;\n",
              "    }\n",
              "\n",
              "    .dataframe thead th {\n",
              "        text-align: right;\n",
              "    }\n",
              "</style>\n",
              "<table border=\"1\" class=\"dataframe\">\n",
              "  <thead>\n",
              "    <tr style=\"text-align: right;\">\n",
              "      <th></th>\n",
              "      <th>Age</th>\n",
              "      <th>RestingBP</th>\n",
              "      <th>Cholesterol</th>\n",
              "      <th>FastingBS</th>\n",
              "      <th>MaxHR</th>\n",
              "      <th>Oldpeak</th>\n",
              "      <th>HeartDisease</th>\n",
              "      <th>Sex_M</th>\n",
              "      <th>ChestPainType_ATA</th>\n",
              "      <th>ChestPainType_NAP</th>\n",
              "      <th>ChestPainType_TA</th>\n",
              "      <th>RestingECG_Normal</th>\n",
              "      <th>RestingECG_ST</th>\n",
              "      <th>ExerciseAngina_Y</th>\n",
              "      <th>ST_Slope_Flat</th>\n",
              "      <th>ST_Slope_Up</th>\n",
              "    </tr>\n",
              "  </thead>\n",
              "  <tbody>\n",
              "    <tr>\n",
              "      <th>0</th>\n",
              "      <td>40</td>\n",
              "      <td>140</td>\n",
              "      <td>289.0</td>\n",
              "      <td>0</td>\n",
              "      <td>172</td>\n",
              "      <td>0.0</td>\n",
              "      <td>0</td>\n",
              "      <td>1</td>\n",
              "      <td>1</td>\n",
              "      <td>0</td>\n",
              "      <td>0</td>\n",
              "      <td>1</td>\n",
              "      <td>0</td>\n",
              "      <td>0</td>\n",
              "      <td>0</td>\n",
              "      <td>1</td>\n",
              "    </tr>\n",
              "    <tr>\n",
              "      <th>1</th>\n",
              "      <td>49</td>\n",
              "      <td>160</td>\n",
              "      <td>180.0</td>\n",
              "      <td>0</td>\n",
              "      <td>156</td>\n",
              "      <td>1.0</td>\n",
              "      <td>1</td>\n",
              "      <td>0</td>\n",
              "      <td>0</td>\n",
              "      <td>1</td>\n",
              "      <td>0</td>\n",
              "      <td>1</td>\n",
              "      <td>0</td>\n",
              "      <td>0</td>\n",
              "      <td>1</td>\n",
              "      <td>0</td>\n",
              "    </tr>\n",
              "    <tr>\n",
              "      <th>2</th>\n",
              "      <td>37</td>\n",
              "      <td>130</td>\n",
              "      <td>283.0</td>\n",
              "      <td>0</td>\n",
              "      <td>98</td>\n",
              "      <td>0.0</td>\n",
              "      <td>0</td>\n",
              "      <td>1</td>\n",
              "      <td>1</td>\n",
              "      <td>0</td>\n",
              "      <td>0</td>\n",
              "      <td>0</td>\n",
              "      <td>1</td>\n",
              "      <td>0</td>\n",
              "      <td>0</td>\n",
              "      <td>1</td>\n",
              "    </tr>\n",
              "    <tr>\n",
              "      <th>3</th>\n",
              "      <td>48</td>\n",
              "      <td>138</td>\n",
              "      <td>214.0</td>\n",
              "      <td>0</td>\n",
              "      <td>108</td>\n",
              "      <td>1.5</td>\n",
              "      <td>1</td>\n",
              "      <td>0</td>\n",
              "      <td>0</td>\n",
              "      <td>0</td>\n",
              "      <td>0</td>\n",
              "      <td>1</td>\n",
              "      <td>0</td>\n",
              "      <td>1</td>\n",
              "      <td>1</td>\n",
              "      <td>0</td>\n",
              "    </tr>\n",
              "    <tr>\n",
              "      <th>4</th>\n",
              "      <td>54</td>\n",
              "      <td>150</td>\n",
              "      <td>195.0</td>\n",
              "      <td>0</td>\n",
              "      <td>122</td>\n",
              "      <td>0.0</td>\n",
              "      <td>0</td>\n",
              "      <td>1</td>\n",
              "      <td>0</td>\n",
              "      <td>1</td>\n",
              "      <td>0</td>\n",
              "      <td>1</td>\n",
              "      <td>0</td>\n",
              "      <td>0</td>\n",
              "      <td>0</td>\n",
              "      <td>1</td>\n",
              "    </tr>\n",
              "    <tr>\n",
              "      <th>...</th>\n",
              "      <td>...</td>\n",
              "      <td>...</td>\n",
              "      <td>...</td>\n",
              "      <td>...</td>\n",
              "      <td>...</td>\n",
              "      <td>...</td>\n",
              "      <td>...</td>\n",
              "      <td>...</td>\n",
              "      <td>...</td>\n",
              "      <td>...</td>\n",
              "      <td>...</td>\n",
              "      <td>...</td>\n",
              "      <td>...</td>\n",
              "      <td>...</td>\n",
              "      <td>...</td>\n",
              "      <td>...</td>\n",
              "    </tr>\n",
              "    <tr>\n",
              "      <th>913</th>\n",
              "      <td>45</td>\n",
              "      <td>110</td>\n",
              "      <td>264.0</td>\n",
              "      <td>0</td>\n",
              "      <td>132</td>\n",
              "      <td>1.2</td>\n",
              "      <td>1</td>\n",
              "      <td>1</td>\n",
              "      <td>0</td>\n",
              "      <td>0</td>\n",
              "      <td>1</td>\n",
              "      <td>1</td>\n",
              "      <td>0</td>\n",
              "      <td>0</td>\n",
              "      <td>1</td>\n",
              "      <td>0</td>\n",
              "    </tr>\n",
              "    <tr>\n",
              "      <th>914</th>\n",
              "      <td>68</td>\n",
              "      <td>144</td>\n",
              "      <td>193.0</td>\n",
              "      <td>1</td>\n",
              "      <td>141</td>\n",
              "      <td>3.4</td>\n",
              "      <td>1</td>\n",
              "      <td>1</td>\n",
              "      <td>0</td>\n",
              "      <td>0</td>\n",
              "      <td>0</td>\n",
              "      <td>1</td>\n",
              "      <td>0</td>\n",
              "      <td>0</td>\n",
              "      <td>1</td>\n",
              "      <td>0</td>\n",
              "    </tr>\n",
              "    <tr>\n",
              "      <th>915</th>\n",
              "      <td>57</td>\n",
              "      <td>130</td>\n",
              "      <td>131.0</td>\n",
              "      <td>0</td>\n",
              "      <td>115</td>\n",
              "      <td>1.2</td>\n",
              "      <td>1</td>\n",
              "      <td>1</td>\n",
              "      <td>0</td>\n",
              "      <td>0</td>\n",
              "      <td>0</td>\n",
              "      <td>1</td>\n",
              "      <td>0</td>\n",
              "      <td>1</td>\n",
              "      <td>1</td>\n",
              "      <td>0</td>\n",
              "    </tr>\n",
              "    <tr>\n",
              "      <th>916</th>\n",
              "      <td>57</td>\n",
              "      <td>130</td>\n",
              "      <td>236.0</td>\n",
              "      <td>0</td>\n",
              "      <td>174</td>\n",
              "      <td>0.0</td>\n",
              "      <td>1</td>\n",
              "      <td>0</td>\n",
              "      <td>1</td>\n",
              "      <td>0</td>\n",
              "      <td>0</td>\n",
              "      <td>0</td>\n",
              "      <td>0</td>\n",
              "      <td>0</td>\n",
              "      <td>1</td>\n",
              "      <td>0</td>\n",
              "    </tr>\n",
              "    <tr>\n",
              "      <th>917</th>\n",
              "      <td>38</td>\n",
              "      <td>138</td>\n",
              "      <td>175.0</td>\n",
              "      <td>0</td>\n",
              "      <td>173</td>\n",
              "      <td>0.0</td>\n",
              "      <td>0</td>\n",
              "      <td>1</td>\n",
              "      <td>0</td>\n",
              "      <td>1</td>\n",
              "      <td>0</td>\n",
              "      <td>1</td>\n",
              "      <td>0</td>\n",
              "      <td>0</td>\n",
              "      <td>0</td>\n",
              "      <td>1</td>\n",
              "    </tr>\n",
              "  </tbody>\n",
              "</table>\n",
              "<p>918 rows × 16 columns</p>\n",
              "</div>"
            ],
            "text/plain": [
              "     Age  RestingBP  Cholesterol  ...  ExerciseAngina_Y  ST_Slope_Flat  ST_Slope_Up\n",
              "0     40        140        289.0  ...                 0              0            1\n",
              "1     49        160        180.0  ...                 0              1            0\n",
              "2     37        130        283.0  ...                 0              0            1\n",
              "3     48        138        214.0  ...                 1              1            0\n",
              "4     54        150        195.0  ...                 0              0            1\n",
              "..   ...        ...          ...  ...               ...            ...          ...\n",
              "913   45        110        264.0  ...                 0              1            0\n",
              "914   68        144        193.0  ...                 0              1            0\n",
              "915   57        130        131.0  ...                 1              1            0\n",
              "916   57        130        236.0  ...                 0              1            0\n",
              "917   38        138        175.0  ...                 0              0            1\n",
              "\n",
              "[918 rows x 16 columns]"
            ]
          },
          "metadata": {},
          "execution_count": 95
        }
      ]
    },
    {
      "cell_type": "code",
      "metadata": {
        "colab": {
          "base_uri": "https://localhost:8080/",
          "height": 282
        },
        "id": "2cx3byOZqXWO",
        "outputId": "f82c519e-1cf3-4302-ef47-087a493e7324"
      },
      "source": [
        "raw_data['FastingBS'].value_counts().plot(kind = 'barh')"
      ],
      "execution_count": null,
      "outputs": [
        {
          "output_type": "execute_result",
          "data": {
            "text/plain": [
              "<matplotlib.axes._subplots.AxesSubplot at 0x7f227c2d4750>"
            ]
          },
          "metadata": {},
          "execution_count": 96
        },
        {
          "output_type": "display_data",
          "data": {
            "image/png": "[encoded data removed]",
            "text/plain": [
              "<Figure size 432x288 with 1 Axes>"
            ]
          },
          "metadata": {
            "needs_background": "light"
          }
        }
      ]
    },
    {
      "cell_type": "code",
      "metadata": {
        "colab": {
          "base_uri": "https://localhost:8080/"
        },
        "id": "xNpdNt0Xq2s-",
        "outputId": "679427c9-e88c-477e-8bd6-80655447ec15"
      },
      "source": [
        "from sklearn.model_selection import train_test_split\n",
        "import xgboost as xgb\n",
        "\n",
        "print('Done...')"
      ],
      "execution_count": null,
      "outputs": [
        {
          "output_type": "stream",
          "name": "stdout",
          "text": [
            "Done...\n"
          ]
        }
      ]
    },
    {
      "cell_type": "code",
      "metadata": {
        "colab": {
          "base_uri": "https://localhost:8080/"
        },
        "id": "Mtjab8AVrS13",
        "outputId": "067a5ad2-3571-4989-a14f-7091d67eca68"
      },
      "source": [
        "X = data_with_dummies.drop('HeartDisease', 1)\n",
        "y = data_with_dummies['HeartDisease']\n",
        "\n",
        "X.shape"
      ],
      "execution_count": null,
      "outputs": [
        {
          "output_type": "execute_result",
          "data": {
            "text/plain": [
              "(918, 15)"
            ]
          },
          "metadata": {},
          "execution_count": 98
        }
      ]
    },
    {
      "cell_type": "code",
      "metadata": {
        "colab": {
          "base_uri": "https://localhost:8080/"
        },
        "id": "hZI_t6xkrq3S",
        "outputId": "d24451eb-2929-4d09-98cc-bea5b3b3d28a"
      },
      "source": [
        "y.shape"
      ],
      "execution_count": null,
      "outputs": [
        {
          "output_type": "execute_result",
          "data": {
            "text/plain": [
              "(918,)"
            ]
          },
          "metadata": {},
          "execution_count": 99
        }
      ]
    },
    {
      "cell_type": "code",
      "metadata": {
        "id": "aDr7QWN7rQIX"
      },
      "source": [
        "trainx, testx, trainy, testy = train_test_split(X,y,test_size=0.2,random_state=42)\n",
        "dtrain = xgb.DMatrix(trainx, trainy)\n",
        "dtest = xgb.DMatrix(testx, testy)\n",
        "\n",
        "# xgboost parametreleri\n",
        "params = {     \n",
        "    'booster': 'dart', 'lambda': 2.8249302013552078e-08, 'alpha': 1.884381553628236e-06, 'subsample': 0.42421473990636055, 'colsample_bytree': 0.20293820234806054, 'max_depth': 7, 'min_child_weight': 8, 'eta': 0.00011227893029804868, 'gamma': 0.0022562720867116623, 'grow_policy': 'depthwise', 'sample_type': 'weighted', 'normalize_type': 'forest', 'rate_drop': 2.376630936771107e-07, 'skip_drop': 2.6759604386252883e-05,   \n",
        "    \"objective\": \"binary:logistic\",\n",
        "    'max_depth': 2,\n",
        "    'eta': 0.4,\n",
        "    'silent': 1,\n",
        "    'object': 'multi:softmax',\n",
        "    'num_class': 1\n",
        "}\n",
        "# egit\n",
        "bst = xgb.XGBClassifier(**params,\n",
        "                        )\n",
        "bst.fit(trainx,trainy)\n",
        "# test et\n",
        "preds = bst.predict(testx)\n"
      ],
      "execution_count": null,
      "outputs": []
    },
    {
      "cell_type": "code",
      "metadata": {
        "id": "6g0-rtCDr_cG"
      },
      "source": [
        "preds = bst.predict(testx)\n",
        "labels = dtest.get_label()\n",
        "\n"
      ],
      "execution_count": null,
      "outputs": []
    },
    {
      "cell_type": "code",
      "metadata": {
        "colab": {
          "base_uri": "https://localhost:8080/"
        },
        "id": "YZNs1aYcy1Wh",
        "outputId": "0dd99471-4208-4f74-afbf-3b1592446ad4"
      },
      "source": [
        "# sklearn performans olcutleri\n",
        "from sklearn.metrics import precision_score, accuracy_score\n",
        "print(precision_score(testy, preds, average='macro'))\n",
        "print(accuracy_score(testy,preds))\n"
      ],
      "execution_count": null,
      "outputs": [
        {
          "output_type": "stream",
          "name": "stdout",
          "text": [
            "0.8485576923076923\n",
            "0.8532608695652174\n"
          ]
        }
      ]
    },
    {
      "cell_type": "code",
      "metadata": {
        "colab": {
          "base_uri": "https://localhost:8080/"
        },
        "id": "fn04sVom6v_j",
        "outputId": "c44f85e5-0306-4534-d25b-8091c3c87d4f"
      },
      "source": [
        "% pip install optuna"
      ],
      "execution_count": null,
      "outputs": [
        {
          "output_type": "stream",
          "name": "stdout",
          "text": [
            "Requirement already satisfied: optuna in /usr/local/lib/python3.7/dist-packages (2.10.0)\n",
            "Requirement already satisfied: PyYAML in /usr/local/lib/python3.7/dist-packages (from optuna) (3.13)\n",
            "Requirement already satisfied: colorlog in /usr/local/lib/python3.7/dist-packages (from optuna) (6.5.0)\n",
            "Requirement already satisfied: numpy in /usr/local/lib/python3.7/dist-packages (from optuna) (1.19.5)\n",
            "Requirement already satisfied: packaging>=20.0 in /usr/local/lib/python3.7/dist-packages (from optuna) (21.0)\n",
            "Requirement already satisfied: tqdm in /usr/local/lib/python3.7/dist-packages (from optuna) (4.62.3)\n",
            "Requirement already satisfied: cmaes>=0.8.2 in /usr/local/lib/python3.7/dist-packages (from optuna) (0.8.2)\n",
            "Requirement already satisfied: sqlalchemy>=1.1.0 in /usr/local/lib/python3.7/dist-packages (from optuna) (1.4.25)\n",
            "Requirement already satisfied: alembic in /usr/local/lib/python3.7/dist-packages (from optuna) (1.7.4)\n",
            "Requirement already satisfied: cliff in /usr/local/lib/python3.7/dist-packages (from optuna) (3.9.0)\n",
            "Requirement already satisfied: scipy!=1.4.0 in /usr/local/lib/python3.7/dist-packages (from optuna) (1.4.1)\n",
            "Requirement already satisfied: pyparsing>=2.0.2 in /usr/local/lib/python3.7/dist-packages (from packaging>=20.0->optuna) (2.4.7)\n",
            "Requirement already satisfied: greenlet!=0.4.17 in /usr/local/lib/python3.7/dist-packages (from sqlalchemy>=1.1.0->optuna) (1.1.2)\n",
            "Requirement already satisfied: importlib-metadata in /usr/local/lib/python3.7/dist-packages (from sqlalchemy>=1.1.0->optuna) (4.8.1)\n",
            "Requirement already satisfied: importlib-resources in /usr/local/lib/python3.7/dist-packages (from alembic->optuna) (5.2.2)\n",
            "Requirement already satisfied: Mako in /usr/local/lib/python3.7/dist-packages (from alembic->optuna) (1.1.5)\n",
            "Requirement already satisfied: autopage>=0.4.0 in /usr/local/lib/python3.7/dist-packages (from cliff->optuna) (0.4.0)\n",
            "Requirement already satisfied: cmd2>=1.0.0 in /usr/local/lib/python3.7/dist-packages (from cliff->optuna) (2.2.0)\n",
            "Requirement already satisfied: pbr!=2.1.0,>=2.0.0 in /usr/local/lib/python3.7/dist-packages (from cliff->optuna) (5.6.0)\n",
            "Requirement already satisfied: stevedore>=2.0.1 in /usr/local/lib/python3.7/dist-packages (from cliff->optuna) (3.5.0)\n",
            "Requirement already satisfied: PrettyTable>=0.7.2 in /usr/local/lib/python3.7/dist-packages (from cliff->optuna) (2.2.1)\n",
            "Requirement already satisfied: attrs>=16.3.0 in /usr/local/lib/python3.7/dist-packages (from cmd2>=1.0.0->cliff->optuna) (21.2.0)\n",
            "Requirement already satisfied: pyperclip>=1.6 in /usr/local/lib/python3.7/dist-packages (from cmd2>=1.0.0->cliff->optuna) (1.8.2)\n",
            "Requirement already satisfied: colorama>=0.3.7 in /usr/local/lib/python3.7/dist-packages (from cmd2>=1.0.0->cliff->optuna) (0.4.4)\n",
            "Requirement already satisfied: wcwidth>=0.1.7 in /usr/local/lib/python3.7/dist-packages (from cmd2>=1.0.0->cliff->optuna) (0.2.5)\n",
            "Requirement already satisfied: typing-extensions in /usr/local/lib/python3.7/dist-packages (from cmd2>=1.0.0->cliff->optuna) (3.7.4.3)\n",
            "Requirement already satisfied: zipp>=0.5 in /usr/local/lib/python3.7/dist-packages (from importlib-metadata->sqlalchemy>=1.1.0->optuna) (3.6.0)\n",
            "Requirement already satisfied: MarkupSafe>=0.9.2 in /usr/local/lib/python3.7/dist-packages (from Mako->alembic->optuna) (2.0.1)\n"
          ]
        }
      ]
    },
    {
      "cell_type": "code",
      "metadata": {
        "colab": {
          "base_uri": "https://localhost:8080/"
        },
        "id": "PLpKH6yu6YSA",
        "outputId": "e25cdca1-db84-415f-94a1-f865d12f66b3"
      },
      "source": [
        "import numpy as np\n",
        "import optuna\n",
        "from sklearn.preprocessing import OneHotEncoder,StandardScaler,PowerTransformer,LabelEncoder\n",
        "\n",
        "import sklearn.datasets\n",
        "import sklearn.metrics\n",
        "from sklearn.model_selection import train_test_split\n",
        "import xgboost as xgb\n",
        "\n",
        "def objective(trial):\n",
        "    \n",
        "    df = pd.read_csv(\"heart.csv\")\n",
        "    df1 = df.copy()\n",
        "    le = LabelEncoder()\n",
        "    df1['HeartDisease']=le.fit_transform(df1['HeartDisease'])\n",
        "\n",
        "    df1= pd.get_dummies(df1)\n",
        "    X= df1.drop('HeartDisease', axis=1)\n",
        "    y= df1['HeartDisease']\n",
        "    \n",
        "    #(data, target) = sklearn.datasets.load_breast_cancer(return_X_y=True)\n",
        "    train_x, valid_x, train_y, valid_y = train_test_split(X, y, test_size=0.25)\n",
        "    dtrain = xgb.DMatrix(train_x, label=train_y)\n",
        "    dvalid = xgb.DMatrix(valid_x, label=valid_y)\n",
        "    \n",
        "    param = {\n",
        "        \"verbosity\": 0,\n",
        "        \"objective\": \"binary:logistic\",\n",
        "        # use exact for small dataset.\n",
        "        \"tree_method\": \"exact\",\n",
        "        # defines booster, gblinear for linear functions.\n",
        "        \"booster\": trial.suggest_categorical(\"booster\", [\"gbtree\", \"gblinear\", \"dart\"]),\n",
        "        # L2 regularization weight.\n",
        "        \"lambda\": trial.suggest_float(\"lambda\", 1e-8, 1.0, log=True),\n",
        "        # L1 regularization weight.\n",
        "        \"alpha\": trial.suggest_float(\"alpha\", 1e-8, 1.0, log=True),\n",
        "        # sampling ratio for training data.\n",
        "        \"subsample\": trial.suggest_float(\"subsample\", 0.2, 1.0),\n",
        "        # sampling according to each tree.\n",
        "        \"colsample_bytree\": trial.suggest_float(\"colsample_bytree\", 0.2, 1.0),\n",
        "    }\n",
        "\n",
        "    if param[\"booster\"] in [\"gbtree\", \"dart\"]:\n",
        "        # maximum depth of the tree, signifies complexity of the tree.\n",
        "        param[\"max_depth\"] = trial.suggest_int(\"max_depth\", 3, 9, step=2)\n",
        "        # minimum child weight, larger the term more conservative the tree.\n",
        "        param[\"min_child_weight\"] = trial.suggest_int(\"min_child_weight\", 2, 10)\n",
        "        param[\"eta\"] = trial.suggest_float(\"eta\", 1e-8, 1.0, log=True)\n",
        "        # defines how selective algorithm is.\n",
        "        param[\"gamma\"] = trial.suggest_float(\"gamma\", 1e-8, 1.0, log=True)\n",
        "        param[\"grow_policy\"] = trial.suggest_categorical(\"grow_policy\", [\"depthwise\", \"lossguide\"])\n",
        "\n",
        "    if param[\"booster\"] == \"dart\":\n",
        "        param[\"sample_type\"] = trial.suggest_categorical(\"sample_type\", [\"uniform\", \"weighted\"])\n",
        "        param[\"normalize_type\"] = trial.suggest_categorical(\"normalize_type\", [\"tree\", \"forest\"])\n",
        "        param[\"rate_drop\"] = trial.suggest_float(\"rate_drop\", 1e-8, 1.0, log=True)\n",
        "        param[\"skip_drop\"] = trial.suggest_float(\"skip_drop\", 1e-8, 1.0, log=True)\n",
        "\n",
        "    bst = xgb.train(param, dtrain)\n",
        "    preds = bst.predict(dvalid)\n",
        "    pred_labels = np.rint(preds)\n",
        "    accuracy = sklearn.metrics.accuracy_score(valid_y, pred_labels)\n",
        "    return accuracy\n",
        "\n",
        "\n",
        "if __name__ == \"__main__\":\n",
        "    study = optuna.create_study(direction=\"maximize\")\n",
        "    study.optimize(objective, n_trials=100, timeout=600)\n",
        "\n",
        "    print(\"Number of finished trials: \", len(study.trials))\n",
        "    print(\"Best trial:\")\n",
        "    trial = study.best_trial\n",
        "\n",
        "    print(\"  Value: {}\".format(trial.value))\n",
        "    print(\"  Params: \")\n",
        "    for key, value in trial.params.items():\n",
        "        print(\"    {}: {}\".format(key, value))"
      ],
      "execution_count": null,
      "outputs": [
        {
          "output_type": "stream",
          "name": "stderr",
          "text": [
            "\u001b[32m[I 2021-11-02 15:56:17,324]\u001b[0m A new study created in memory with name: no-name-6bf48f67-e136-4091-99b8-71755f39eb5a\u001b[0m\n",
            "\u001b[32m[I 2021-11-02 15:56:17,360]\u001b[0m Trial 0 finished with value: 0.8478260869565217 and parameters: {'booster': 'gblinear', 'lambda': 1.0176668622378817e-07, 'alpha': 8.241965679200498e-05, 'subsample': 0.9794926809945783, 'colsample_bytree': 0.9399731181630966}. Best is trial 0 with value: 0.8478260869565217.\u001b[0m\n",
            "\u001b[32m[I 2021-11-02 15:56:17,394]\u001b[0m Trial 1 finished with value: 0.8608695652173913 and parameters: {'booster': 'gbtree', 'lambda': 0.0012217441757304966, 'alpha': 1.4262160060068054e-05, 'subsample': 0.9117975560369775, 'colsample_bytree': 0.5051597134384915, 'max_depth': 5, 'min_child_weight': 2, 'eta': 0.02385631297512938, 'gamma': 0.0008591630929671517, 'grow_policy': 'lossguide'}. Best is trial 1 with value: 0.8608695652173913.\u001b[0m\n",
            "\u001b[32m[I 2021-11-02 15:56:17,430]\u001b[0m Trial 2 finished with value: 0.782608695652174 and parameters: {'booster': 'gbtree', 'lambda': 4.3547744063635294e-07, 'alpha': 4.178940620218585e-05, 'subsample': 0.6530002743786214, 'colsample_bytree': 0.836431782358489, 'max_depth': 9, 'min_child_weight': 10, 'eta': 4.908339864295057e-08, 'gamma': 2.06201744101826e-08, 'grow_policy': 'depthwise'}. Best is trial 1 with value: 0.8608695652173913.\u001b[0m\n",
            "\u001b[32m[I 2021-11-02 15:56:17,463]\u001b[0m Trial 3 finished with value: 0.8478260869565217 and parameters: {'booster': 'dart', 'lambda': 0.00036574790211150337, 'alpha': 1.3967822062617878e-05, 'subsample': 0.29574171629326074, 'colsample_bytree': 0.5518547823759843, 'max_depth': 5, 'min_child_weight': 7, 'eta': 0.14065221231121341, 'gamma': 0.00022193232955459622, 'grow_policy': 'depthwise', 'sample_type': 'weighted', 'normalize_type': 'tree', 'rate_drop': 0.05164782367102706, 'skip_drop': 0.019573421410720746}. Best is trial 1 with value: 0.8608695652173913.\u001b[0m\n",
            "\u001b[32m[I 2021-11-02 15:56:17,501]\u001b[0m Trial 4 finished with value: 0.8391304347826087 and parameters: {'booster': 'gbtree', 'lambda': 9.747287984142584e-08, 'alpha': 0.00979768760747748, 'subsample': 0.9473813413244605, 'colsample_bytree': 0.5704883931230632, 'max_depth': 9, 'min_child_weight': 9, 'eta': 4.156222988434848e-05, 'gamma': 6.870455822958152e-08, 'grow_policy': 'depthwise'}. Best is trial 1 with value: 0.8608695652173913.\u001b[0m\n",
            "\u001b[32m[I 2021-11-02 15:56:17,535]\u001b[0m Trial 5 finished with value: 0.7956521739130434 and parameters: {'booster': 'dart', 'lambda': 3.4847358193044344e-05, 'alpha': 5.385005424666722e-06, 'subsample': 0.5639674399678545, 'colsample_bytree': 0.319249190018542, 'max_depth': 7, 'min_child_weight': 9, 'eta': 0.0033859138848357498, 'gamma': 3.0219119445966533e-06, 'grow_policy': 'depthwise', 'sample_type': 'weighted', 'normalize_type': 'forest', 'rate_drop': 3.4856717714233565e-08, 'skip_drop': 2.935099596780043e-07}. Best is trial 1 with value: 0.8608695652173913.\u001b[0m\n",
            "\u001b[32m[I 2021-11-02 15:56:17,578]\u001b[0m Trial 6 finished with value: 0.808695652173913 and parameters: {'booster': 'dart', 'lambda': 0.005015617154865797, 'alpha': 6.049921898070804e-07, 'subsample': 0.7732610114639906, 'colsample_bytree': 0.9586715325863737, 'max_depth': 9, 'min_child_weight': 4, 'eta': 3.533300560595023e-08, 'gamma': 0.013337898096608273, 'grow_policy': 'lossguide', 'sample_type': 'weighted', 'normalize_type': 'tree', 'rate_drop': 1.7547602980145066e-06, 'skip_drop': 9.380698676927472e-07}. Best is trial 1 with value: 0.8608695652173913.\u001b[0m\n",
            "\u001b[32m[I 2021-11-02 15:56:17,612]\u001b[0m Trial 7 finished with value: 0.8434782608695652 and parameters: {'booster': 'gbtree', 'lambda': 3.4574869542174044e-06, 'alpha': 0.9127356951575991, 'subsample': 0.44514070040980425, 'colsample_bytree': 0.9787840547709525, 'max_depth': 3, 'min_child_weight': 6, 'eta': 0.046031349588482165, 'gamma': 1.2083579182683182e-05, 'grow_policy': 'depthwise'}. Best is trial 1 with value: 0.8608695652173913.\u001b[0m\n",
            "\u001b[32m[I 2021-11-02 15:56:17,640]\u001b[0m Trial 8 finished with value: 0.8956521739130435 and parameters: {'booster': 'gblinear', 'lambda': 0.031918926464272, 'alpha': 0.004595332389045291, 'subsample': 0.38556153992424563, 'colsample_bytree': 0.9822795665909883}. Best is trial 8 with value: 0.8956521739130435.\u001b[0m\n",
            "\u001b[32m[I 2021-11-02 15:56:17,671]\u001b[0m Trial 9 finished with value: 0.8347826086956521 and parameters: {'booster': 'gbtree', 'lambda': 0.0008542133277712925, 'alpha': 0.008469792789510232, 'subsample': 0.6722091285972038, 'colsample_bytree': 0.2179130739604377, 'max_depth': 3, 'min_child_weight': 6, 'eta': 0.007805511211910068, 'gamma': 0.03185619023591797, 'grow_policy': 'lossguide'}. Best is trial 8 with value: 0.8956521739130435.\u001b[0m\n",
            "\u001b[32m[I 2021-11-02 15:56:17,705]\u001b[0m Trial 10 finished with value: 0.8217391304347826 and parameters: {'booster': 'gblinear', 'lambda': 0.903736631992511, 'alpha': 0.004065572518250242, 'subsample': 0.23697822929663329, 'colsample_bytree': 0.7525550712154621}. Best is trial 8 with value: 0.8956521739130435.\u001b[0m\n",
            "\u001b[32m[I 2021-11-02 15:56:17,738]\u001b[0m Trial 11 finished with value: 0.8391304347826087 and parameters: {'booster': 'gblinear', 'lambda': 0.05188765041545586, 'alpha': 7.621949384637802e-08, 'subsample': 0.4338256137949806, 'colsample_bytree': 0.43404715640709995}. Best is trial 8 with value: 0.8956521739130435.\u001b[0m\n",
            "\u001b[32m[I 2021-11-02 15:56:17,775]\u001b[0m Trial 12 finished with value: 0.8869565217391304 and parameters: {'booster': 'gblinear', 'lambda': 0.015306065970468359, 'alpha': 0.0010436727180497968, 'subsample': 0.8216283615163327, 'colsample_bytree': 0.6944866754009513}. Best is trial 8 with value: 0.8956521739130435.\u001b[0m\n",
            "\u001b[32m[I 2021-11-02 15:56:17,811]\u001b[0m Trial 13 finished with value: 0.8782608695652174 and parameters: {'booster': 'gblinear', 'lambda': 0.06323335449530477, 'alpha': 0.0011976484838489643, 'subsample': 0.7993107184835218, 'colsample_bytree': 0.7109078654605436}. Best is trial 8 with value: 0.8956521739130435.\u001b[0m\n",
            "\u001b[32m[I 2021-11-02 15:56:17,846]\u001b[0m Trial 14 finished with value: 0.5869565217391305 and parameters: {'booster': 'gblinear', 'lambda': 0.03670546030259044, 'alpha': 0.5333450382779237, 'subsample': 0.4481431184402575, 'colsample_bytree': 0.7009229357291387}. Best is trial 8 with value: 0.8956521739130435.\u001b[0m\n",
            "\u001b[32m[I 2021-11-02 15:56:17,879]\u001b[0m Trial 15 finished with value: 0.8260869565217391 and parameters: {'booster': 'gblinear', 'lambda': 0.941222274457953, 'alpha': 0.0005870614690857721, 'subsample': 0.3555035561484271, 'colsample_bytree': 0.8496351773660422}. Best is trial 8 with value: 0.8956521739130435.\u001b[0m\n",
            "\u001b[32m[I 2021-11-02 15:56:17,917]\u001b[0m Trial 16 finished with value: 0.8304347826086956 and parameters: {'booster': 'gblinear', 'lambda': 2.8305009035371668e-05, 'alpha': 0.07012163832428246, 'subsample': 0.5666618804697416, 'colsample_bytree': 0.6666798501507721}. Best is trial 8 with value: 0.8956521739130435.\u001b[0m\n",
            "\u001b[32m[I 2021-11-02 15:56:17,956]\u001b[0m Trial 17 finished with value: 0.8304347826086956 and parameters: {'booster': 'gblinear', 'lambda': 0.005918249815016673, 'alpha': 0.07227742011036911, 'subsample': 0.8145244914456968, 'colsample_bytree': 0.8392732294925468}. Best is trial 8 with value: 0.8956521739130435.\u001b[0m\n",
            "\u001b[32m[I 2021-11-02 15:56:17,990]\u001b[0m Trial 18 finished with value: 0.8652173913043478 and parameters: {'booster': 'gblinear', 'lambda': 0.012268621459030833, 'alpha': 0.0004191857254128089, 'subsample': 0.7007707170669933, 'colsample_bytree': 0.38944193144105854}. Best is trial 8 with value: 0.8956521739130435.\u001b[0m\n",
            "\u001b[32m[I 2021-11-02 15:56:18,026]\u001b[0m Trial 19 finished with value: 0.8173913043478261 and parameters: {'booster': 'gblinear', 'lambda': 0.25455547463926925, 'alpha': 0.03793510498042952, 'subsample': 0.5041390304701909, 'colsample_bytree': 0.6372858238390163}. Best is trial 8 with value: 0.8956521739130435.\u001b[0m\n",
            "\u001b[32m[I 2021-11-02 15:56:18,084]\u001b[0m Trial 20 finished with value: 0.8956521739130435 and parameters: {'booster': 'dart', 'lambda': 0.00023290075339907267, 'alpha': 0.00024880143181838426, 'subsample': 0.3326111255400185, 'colsample_bytree': 0.7749728049686205, 'max_depth': 7, 'min_child_weight': 2, 'eta': 8.408875582019406e-06, 'gamma': 0.7388233167789895, 'grow_policy': 'lossguide', 'sample_type': 'uniform', 'normalize_type': 'forest', 'rate_drop': 0.7385155968618428, 'skip_drop': 0.5091026048248608}. Best is trial 8 with value: 0.8956521739130435.\u001b[0m\n",
            "\u001b[32m[I 2021-11-02 15:56:18,138]\u001b[0m Trial 21 finished with value: 0.8260869565217391 and parameters: {'booster': 'dart', 'lambda': 0.00013941121341338731, 'alpha': 0.0002519841305025721, 'subsample': 0.3272575376681394, 'colsample_bytree': 0.799009682121255, 'max_depth': 7, 'min_child_weight': 2, 'eta': 1.0862805615605522e-05, 'gamma': 0.7882077860603285, 'grow_policy': 'lossguide', 'sample_type': 'uniform', 'normalize_type': 'forest', 'rate_drop': 0.2553738573309839, 'skip_drop': 0.8448761871610421}. Best is trial 8 with value: 0.8956521739130435.\u001b[0m\n",
            "\u001b[32m[I 2021-11-02 15:56:18,199]\u001b[0m Trial 22 finished with value: 0.8695652173913043 and parameters: {'booster': 'dart', 'lambda': 0.004631915315027895, 'alpha': 0.0021194793158898864, 'subsample': 0.37006766904002497, 'colsample_bytree': 0.8965047768333556, 'max_depth': 7, 'min_child_weight': 4, 'eta': 1.210415430131131e-06, 'gamma': 0.561647114645931, 'grow_policy': 'lossguide', 'sample_type': 'uniform', 'normalize_type': 'forest', 'rate_drop': 0.00025901837331648256, 'skip_drop': 0.0006329672152054912}. Best is trial 8 with value: 0.8956521739130435.\u001b[0m\n",
            "\u001b[32m[I 2021-11-02 15:56:18,246]\u001b[0m Trial 23 finished with value: 0.8304347826086956 and parameters: {'booster': 'dart', 'lambda': 2.527891606989357e-06, 'alpha': 1.7909207781948257e-06, 'subsample': 0.25337539929026853, 'colsample_bytree': 0.7778481839318527, 'max_depth': 5, 'min_child_weight': 4, 'eta': 0.00039583482581863235, 'gamma': 0.007216539142281341, 'grow_policy': 'lossguide', 'sample_type': 'uniform', 'normalize_type': 'forest', 'rate_drop': 0.0023981867514427176, 'skip_drop': 0.324794802054954}. Best is trial 8 with value: 0.8956521739130435.\u001b[0m\n",
            "\u001b[32m[I 2021-11-02 15:56:18,297]\u001b[0m Trial 24 finished with value: 0.8173913043478261 and parameters: {'booster': 'dart', 'lambda': 0.17879820005517683, 'alpha': 0.00013207456400233584, 'subsample': 0.5227005689436144, 'colsample_bytree': 0.6188463507340021, 'max_depth': 7, 'min_child_weight': 3, 'eta': 8.356245353713597e-07, 'gamma': 9.185519270285791e-07, 'grow_policy': 'lossguide', 'sample_type': 'uniform', 'normalize_type': 'forest', 'rate_drop': 0.5947220888588586, 'skip_drop': 0.00012459324043778062}. Best is trial 8 with value: 0.8956521739130435.\u001b[0m\n",
            "\u001b[32m[I 2021-11-02 15:56:18,330]\u001b[0m Trial 25 finished with value: 0.8434782608695652 and parameters: {'booster': 'gblinear', 'lambda': 1.2203599804232173e-08, 'alpha': 0.01920565231163967, 'subsample': 0.8996729550518827, 'colsample_bytree': 0.9003750129995816}. Best is trial 8 with value: 0.8956521739130435.\u001b[0m\n",
            "\u001b[32m[I 2021-11-02 15:56:18,377]\u001b[0m Trial 26 finished with value: 0.8521739130434782 and parameters: {'booster': 'dart', 'lambda': 0.0016498682465049465, 'alpha': 1.1185156809296404e-08, 'subsample': 0.21329741018146364, 'colsample_bytree': 0.7466088347569422, 'max_depth': 5, 'min_child_weight': 7, 'eta': 0.00040714912052838126, 'gamma': 0.10316730629192705, 'grow_policy': 'lossguide', 'sample_type': 'uniform', 'normalize_type': 'tree', 'rate_drop': 7.074245638978861e-06, 'skip_drop': 0.003195277477468192}. Best is trial 8 with value: 0.8956521739130435.\u001b[0m\n",
            "\u001b[32m[I 2021-11-02 15:56:18,420]\u001b[0m Trial 27 finished with value: 0.8521739130434782 and parameters: {'booster': 'gblinear', 'lambda': 0.00014845076550054504, 'alpha': 0.001707427522556521, 'subsample': 0.4159173730198398, 'colsample_bytree': 0.49500442330166367}. Best is trial 8 with value: 0.8956521739130435.\u001b[0m\n",
            "\u001b[32m[I 2021-11-02 15:56:18,456]\u001b[0m Trial 28 finished with value: 0.6565217391304348 and parameters: {'booster': 'gblinear', 'lambda': 0.01968242979901176, 'alpha': 0.2165694598648544, 'subsample': 0.30536295735399505, 'colsample_bytree': 0.8941754091119206}. Best is trial 8 with value: 0.8956521739130435.\u001b[0m\n",
            "\u001b[32m[I 2021-11-02 15:56:18,509]\u001b[0m Trial 29 finished with value: 0.8391304347826087 and parameters: {'booster': 'dart', 'lambda': 3.02264486122649e-05, 'alpha': 6.352662977368402e-05, 'subsample': 0.6175056217778421, 'colsample_bytree': 0.9878472748287914, 'max_depth': 3, 'min_child_weight': 5, 'eta': 1.6161940664947098e-06, 'gamma': 0.0018399275987969542, 'grow_policy': 'lossguide', 'sample_type': 'uniform', 'normalize_type': 'forest', 'rate_drop': 0.006174704766904911, 'skip_drop': 1.4158145400452968e-05}. Best is trial 8 with value: 0.8956521739130435.\u001b[0m\n",
            "\u001b[32m[I 2021-11-02 15:56:18,546]\u001b[0m Trial 30 finished with value: 0.8434782608695652 and parameters: {'booster': 'gblinear', 'lambda': 6.540920575275391e-06, 'alpha': 0.004962896955589175, 'subsample': 0.993215688957032, 'colsample_bytree': 0.6885387066983991}. Best is trial 8 with value: 0.8956521739130435.\u001b[0m\n",
            "\u001b[32m[I 2021-11-02 15:56:18,581]\u001b[0m Trial 31 finished with value: 0.8739130434782608 and parameters: {'booster': 'gblinear', 'lambda': 0.12178849644500692, 'alpha': 0.0013718139834601514, 'subsample': 0.7896099213641465, 'colsample_bytree': 0.6945997962633562}. Best is trial 8 with value: 0.8956521739130435.\u001b[0m\n",
            "\u001b[32m[I 2021-11-02 15:56:18,616]\u001b[0m Trial 32 finished with value: 0.8782608695652174 and parameters: {'booster': 'gblinear', 'lambda': 0.07997652429183429, 'alpha': 0.0009390784565378075, 'subsample': 0.853970652891584, 'colsample_bytree': 0.7283875398441071}. Best is trial 8 with value: 0.8956521739130435.\u001b[0m\n",
            "\u001b[32m[I 2021-11-02 15:56:18,652]\u001b[0m Trial 33 finished with value: 0.8608695652173913 and parameters: {'booster': 'gblinear', 'lambda': 0.0010609024842618846, 'alpha': 0.0001439226673913814, 'subsample': 0.8582701429503874, 'colsample_bytree': 0.7960704796730848}. Best is trial 8 with value: 0.8956521739130435.\u001b[0m\n",
            "\u001b[32m[I 2021-11-02 15:56:18,687]\u001b[0m Trial 34 finished with value: 0.8478260869565217 and parameters: {'booster': 'gblinear', 'lambda': 0.300576422696305, 'alpha': 2.011720436754144e-05, 'subsample': 0.7236891187526449, 'colsample_bytree': 0.6046436788838775}. Best is trial 8 with value: 0.8956521739130435.\u001b[0m\n",
            "\u001b[32m[I 2021-11-02 15:56:18,738]\u001b[0m Trial 35 finished with value: 0.8652173913043478 and parameters: {'booster': 'gbtree', 'lambda': 0.018855634248990713, 'alpha': 0.0005455750887338567, 'subsample': 0.8720057514406475, 'colsample_bytree': 0.5499806488394193, 'max_depth': 9, 'min_child_weight': 2, 'eta': 1.3565699571383329e-05, 'gamma': 6.281020918713428e-05, 'grow_policy': 'lossguide'}. Best is trial 8 with value: 0.8956521739130435.\u001b[0m\n",
            "\u001b[32m[I 2021-11-02 15:56:18,773]\u001b[0m Trial 36 finished with value: 0.8565217391304348 and parameters: {'booster': 'gblinear', 'lambda': 0.0003475559017763165, 'alpha': 2.4101093463212913e-05, 'subsample': 0.9372831460710224, 'colsample_bytree': 0.7385530169109548}. Best is trial 8 with value: 0.8956521739130435.\u001b[0m\n",
            "\u001b[32m[I 2021-11-02 15:56:18,826]\u001b[0m Trial 37 finished with value: 0.8478260869565217 and parameters: {'booster': 'gbtree', 'lambda': 0.0033039773135638095, 'alpha': 6.433375905023517e-06, 'subsample': 0.744524252308481, 'colsample_bytree': 0.9353944464297895, 'max_depth': 7, 'min_child_weight': 3, 'eta': 2.639516477330733e-07, 'gamma': 3.0077573188222457e-07, 'grow_policy': 'depthwise'}. Best is trial 8 with value: 0.8956521739130435.\u001b[0m\n",
            "\u001b[32m[I 2021-11-02 15:56:18,874]\u001b[0m Trial 38 finished with value: 0.8173913043478261 and parameters: {'booster': 'dart', 'lambda': 0.0751243118839258, 'alpha': 5.053266081523959e-05, 'subsample': 0.26839378992679425, 'colsample_bytree': 0.8402516979717225, 'max_depth': 5, 'min_child_weight': 8, 'eta': 0.8597546747916299, 'gamma': 3.0579613459589706e-05, 'grow_policy': 'lossguide', 'sample_type': 'weighted', 'normalize_type': 'tree', 'rate_drop': 1.085703208445897e-08, 'skip_drop': 1.8562865741702497e-08}. Best is trial 8 with value: 0.8956521739130435.\u001b[0m\n",
            "\u001b[32m[I 2021-11-02 15:56:18,927]\u001b[0m Trial 39 finished with value: 0.8391304347826087 and parameters: {'booster': 'dart', 'lambda': 0.010802493152603766, 'alpha': 0.013889590180425352, 'subsample': 0.607230089423788, 'colsample_bytree': 0.5625801541524438, 'max_depth': 9, 'min_child_weight': 5, 'eta': 0.0002953693824384915, 'gamma': 0.11708077993435871, 'grow_policy': 'depthwise', 'sample_type': 'uniform', 'normalize_type': 'forest', 'rate_drop': 3.27546101860988e-05, 'skip_drop': 0.029271960682626292}. Best is trial 8 with value: 0.8956521739130435.\u001b[0m\n",
            "\u001b[32m[I 2021-11-02 15:56:18,979]\u001b[0m Trial 40 finished with value: 0.8478260869565217 and parameters: {'booster': 'gbtree', 'lambda': 0.3743762977432457, 'alpha': 0.0047772308354799, 'subsample': 0.9568950367679626, 'colsample_bytree': 0.6497763025872709, 'max_depth': 7, 'min_child_weight': 3, 'eta': 0.002095332529934103, 'gamma': 0.0015362951874685758, 'grow_policy': 'lossguide'}. Best is trial 8 with value: 0.8956521739130435.\u001b[0m\n",
            "\u001b[32m[I 2021-11-02 15:56:19,018]\u001b[0m Trial 41 finished with value: 0.8826086956521739 and parameters: {'booster': 'gblinear', 'lambda': 0.047024928689569395, 'alpha': 0.0010533522606845744, 'subsample': 0.8471431108082798, 'colsample_bytree': 0.7189872582258411}. Best is trial 8 with value: 0.8956521739130435.\u001b[0m\n",
            "\u001b[32m[I 2021-11-02 15:56:19,055]\u001b[0m Trial 42 finished with value: 0.8695652173913043 and parameters: {'booster': 'gblinear', 'lambda': 0.026818410925118327, 'alpha': 0.00026855703910821997, 'subsample': 0.8639033939290726, 'colsample_bytree': 0.7861483720654819}. Best is trial 8 with value: 0.8956521739130435.\u001b[0m\n",
            "\u001b[32m[I 2021-11-02 15:56:19,091]\u001b[0m Trial 43 finished with value: 0.8565217391304348 and parameters: {'booster': 'gblinear', 'lambda': 0.09947815731071076, 'alpha': 0.0009501746484934602, 'subsample': 0.8351640903292289, 'colsample_bytree': 0.7314179384844991}. Best is trial 8 with value: 0.8956521739130435.\u001b[0m\n",
            "\u001b[32m[I 2021-11-02 15:56:19,126]\u001b[0m Trial 44 finished with value: 0.8869565217391304 and parameters: {'booster': 'gblinear', 'lambda': 0.0025398004519196684, 'alpha': 0.0028657268635945104, 'subsample': 0.7888271163692537, 'colsample_bytree': 0.5014762608354398}. Best is trial 8 with value: 0.8956521739130435.\u001b[0m\n",
            "\u001b[32m[I 2021-11-02 15:56:19,161]\u001b[0m Trial 45 finished with value: 0.8782608695652174 and parameters: {'booster': 'gblinear', 'lambda': 0.00043631986333746473, 'alpha': 0.0034745972424530588, 'subsample': 0.7601428229900378, 'colsample_bytree': 0.5026444168730848}. Best is trial 8 with value: 0.8956521739130435.\u001b[0m\n",
            "\u001b[32m[I 2021-11-02 15:56:19,202]\u001b[0m Trial 46 finished with value: 0.8913043478260869 and parameters: {'booster': 'gblinear', 'lambda': 0.0027606432332350477, 'alpha': 0.014682704100335784, 'subsample': 0.6645311376197368, 'colsample_bytree': 0.3773959749204977}. Best is trial 8 with value: 0.8956521739130435.\u001b[0m\n",
            "\u001b[32m[I 2021-11-02 15:56:19,239]\u001b[0m Trial 47 finished with value: 0.8521739130434782 and parameters: {'booster': 'gblinear', 'lambda': 0.00042735916641530757, 'alpha': 0.02966183852574422, 'subsample': 0.6891502781292933, 'colsample_bytree': 0.24073350936768784}. Best is trial 8 with value: 0.8956521739130435.\u001b[0m\n",
            "\u001b[32m[I 2021-11-02 15:56:19,283]\u001b[0m Trial 48 finished with value: 0.8478260869565217 and parameters: {'booster': 'gbtree', 'lambda': 0.002131076242874419, 'alpha': 0.009597909941597834, 'subsample': 0.4891189852965956, 'colsample_bytree': 0.40783632283946425, 'max_depth': 3, 'min_child_weight': 5, 'eta': 1.2955677484353428e-05, 'gamma': 0.0002483810533419686, 'grow_policy': 'lossguide'}. Best is trial 8 with value: 0.8956521739130435.\u001b[0m\n",
            "\u001b[32m[I 2021-11-02 15:56:19,317]\u001b[0m Trial 49 finished with value: 0.7130434782608696 and parameters: {'booster': 'gblinear', 'lambda': 0.009331149711339621, 'alpha': 0.13747914404498482, 'subsample': 0.6254943230162153, 'colsample_bytree': 0.32808691426018455}. Best is trial 8 with value: 0.8956521739130435.\u001b[0m\n",
            "\u001b[32m[I 2021-11-02 15:56:19,351]\u001b[0m Trial 50 finished with value: 0.8521739130434782 and parameters: {'booster': 'gblinear', 'lambda': 7.9623471509206e-05, 'alpha': 0.0036473492473155693, 'subsample': 0.6560628586997492, 'colsample_bytree': 0.45649682390845897}. Best is trial 8 with value: 0.8956521739130435.\u001b[0m\n",
            "\u001b[32m[I 2021-11-02 15:56:19,384]\u001b[0m Trial 51 finished with value: 0.8739130434782608 and parameters: {'booster': 'gblinear', 'lambda': 0.003286061022209404, 'alpha': 0.00855096927097742, 'subsample': 0.9147781362831138, 'colsample_bytree': 0.28593772789214544}. Best is trial 8 with value: 0.8956521739130435.\u001b[0m\n",
            "\u001b[32m[I 2021-11-02 15:56:19,419]\u001b[0m Trial 52 finished with value: 0.8304347826086956 and parameters: {'booster': 'gblinear', 'lambda': 0.0008981393950371865, 'alpha': 0.0002408282208120098, 'subsample': 0.381894079732549, 'colsample_bytree': 0.4742804950364884}. Best is trial 8 with value: 0.8956521739130435.\u001b[0m\n",
            "\u001b[32m[I 2021-11-02 15:56:19,454]\u001b[0m Trial 53 finished with value: 0.8869565217391304 and parameters: {'booster': 'gblinear', 'lambda': 0.03737652252957175, 'alpha': 0.0022077268028334878, 'subsample': 0.8163252671592889, 'colsample_bytree': 0.5306435494936039}. Best is trial 8 with value: 0.8956521739130435.\u001b[0m\n",
            "\u001b[32m[I 2021-11-02 15:56:19,488]\u001b[0m Trial 54 finished with value: 0.8869565217391304 and parameters: {'booster': 'gblinear', 'lambda': 0.007452799578019555, 'alpha': 0.0026709871250051066, 'subsample': 0.5605196021498504, 'colsample_bytree': 0.360918900008438}. Best is trial 8 with value: 0.8956521739130435.\u001b[0m\n",
            "\u001b[32m[I 2021-11-02 15:56:19,539]\u001b[0m Trial 55 finished with value: 0.8608695652173913 and parameters: {'booster': 'dart', 'lambda': 0.0062059759493538445, 'alpha': 0.030696107811676716, 'subsample': 0.5714685733028556, 'colsample_bytree': 0.35823771656169917, 'max_depth': 5, 'min_child_weight': 7, 'eta': 1.0442789942212495e-07, 'gamma': 5.230742733243571e-06, 'grow_policy': 'depthwise', 'sample_type': 'uniform', 'normalize_type': 'forest', 'rate_drop': 0.00986049215212817, 'skip_drop': 1.5055365419307944e-05}. Best is trial 8 with value: 0.8956521739130435.\u001b[0m\n",
            "\u001b[32m[I 2021-11-02 15:56:19,578]\u001b[0m Trial 56 finished with value: 0.8130434782608695 and parameters: {'booster': 'gblinear', 'lambda': 0.0023370055284268037, 'alpha': 0.00044877064490570737, 'subsample': 0.4707229287899425, 'colsample_bytree': 0.42645119757078104}. Best is trial 8 with value: 0.8956521739130435.\u001b[0m\n",
            "\u001b[32m[I 2021-11-02 15:56:19,616]\u001b[0m Trial 57 finished with value: 0.8521739130434782 and parameters: {'booster': 'gblinear', 'lambda': 6.903295548662711e-05, 'alpha': 0.0025458551212558297, 'subsample': 0.5351685640223844, 'colsample_bytree': 0.5347977245226619}. Best is trial 8 with value: 0.8956521739130435.\u001b[0m\n",
            "\u001b[32m[I 2021-11-02 15:56:19,652]\u001b[0m Trial 58 finished with value: 0.8478260869565217 and parameters: {'booster': 'gblinear', 'lambda': 0.00024256637197604623, 'alpha': 0.006939825583034124, 'subsample': 0.3365262090045698, 'colsample_bytree': 0.3833054216503305}. Best is trial 8 with value: 0.8956521739130435.\u001b[0m\n",
            "\u001b[32m[I 2021-11-02 15:56:19,707]\u001b[0m Trial 59 finished with value: 0.808695652173913 and parameters: {'booster': 'dart', 'lambda': 0.0007256489665278694, 'alpha': 0.0774946401032586, 'subsample': 0.4042839866862801, 'colsample_bytree': 0.2627762162620749, 'max_depth': 7, 'min_child_weight': 10, 'eta': 1.219395488393756e-08, 'gamma': 0.08378426847637171, 'grow_policy': 'lossguide', 'sample_type': 'weighted', 'normalize_type': 'tree', 'rate_drop': 0.0004970163138307579, 'skip_drop': 0.08446553878433172}. Best is trial 8 with value: 0.8956521739130435.\u001b[0m\n",
            "\u001b[32m[I 2021-11-02 15:56:19,744]\u001b[0m Trial 60 finished with value: 0.8652173913043478 and parameters: {'booster': 'gblinear', 'lambda': 0.006898715999244601, 'alpha': 0.013510235353372197, 'subsample': 0.7387366147283236, 'colsample_bytree': 0.5308486174908399}. Best is trial 8 with value: 0.8956521739130435.\u001b[0m\n",
            "\u001b[32m[I 2021-11-02 15:56:19,782]\u001b[0m Trial 61 finished with value: 0.8565217391304348 and parameters: {'booster': 'gblinear', 'lambda': 0.018681993615649047, 'alpha': 0.002084898399052924, 'subsample': 0.7835071488136176, 'colsample_bytree': 0.5868571952501618}. Best is trial 8 with value: 0.8956521739130435.\u001b[0m\n",
            "\u001b[32m[I 2021-11-02 15:56:19,817]\u001b[0m Trial 62 finished with value: 0.8826086956521739 and parameters: {'booster': 'gblinear', 'lambda': 0.037646814977802784, 'alpha': 0.00013424011575058958, 'subsample': 0.8181493183253384, 'colsample_bytree': 0.4647485128513275}. Best is trial 8 with value: 0.8956521739130435.\u001b[0m\n",
            "\u001b[32m[I 2021-11-02 15:56:19,859]\u001b[0m Trial 63 finished with value: 0.8608695652173913 and parameters: {'booster': 'gblinear', 'lambda': 0.01406773061450483, 'alpha': 0.0215766381697137, 'subsample': 0.7133156308512785, 'colsample_bytree': 0.3268170743483402}. Best is trial 8 with value: 0.8956521739130435.\u001b[0m\n",
            "\u001b[32m[I 2021-11-02 15:56:19,896]\u001b[0m Trial 64 finished with value: 0.8565217391304348 and parameters: {'booster': 'gblinear', 'lambda': 0.00444796733229372, 'alpha': 0.0006572279062161304, 'subsample': 0.2899981131310959, 'colsample_bytree': 0.6277485397323433}. Best is trial 8 with value: 0.8956521739130435.\u001b[0m\n",
            "\u001b[32m[I 2021-11-02 15:56:19,934]\u001b[0m Trial 65 finished with value: 0.8478260869565217 and parameters: {'booster': 'gblinear', 'lambda': 1.3460588217754481e-05, 'alpha': 0.0017714142846707622, 'subsample': 0.6750314943494926, 'colsample_bytree': 0.36209717909094297}. Best is trial 8 with value: 0.8956521739130435.\u001b[0m\n",
            "\u001b[32m[I 2021-11-02 15:56:19,990]\u001b[0m Trial 66 finished with value: 0.8652173913043478 and parameters: {'booster': 'dart', 'lambda': 0.0011996264385108848, 'alpha': 0.049505015577878266, 'subsample': 0.6427828005933143, 'colsample_bytree': 0.6670135367088115, 'max_depth': 9, 'min_child_weight': 6, 'eta': 8.336560038907475e-05, 'gamma': 0.004104325810042389, 'grow_policy': 'lossguide', 'sample_type': 'uniform', 'normalize_type': 'forest', 'rate_drop': 4.09874039231582e-07, 'skip_drop': 0.0025783029767162038}. Best is trial 8 with value: 0.8956521739130435.\u001b[0m\n",
            "\u001b[32m[I 2021-11-02 15:56:20,027]\u001b[0m Trial 67 finished with value: 0.8521739130434782 and parameters: {'booster': 'gblinear', 'lambda': 0.4984733306379278, 'alpha': 0.0003241111966690557, 'subsample': 0.5788067645238351, 'colsample_bytree': 0.29865149403102603}. Best is trial 8 with value: 0.8956521739130435.\u001b[0m\n",
            "\u001b[32m[I 2021-11-02 15:56:20,063]\u001b[0m Trial 68 finished with value: 0.9 and parameters: {'booster': 'gblinear', 'lambda': 6.550900250866191e-07, 'alpha': 9.196590695695948e-05, 'subsample': 0.8853930112175515, 'colsample_bytree': 0.9570962827215184}. Best is trial 68 with value: 0.9.\u001b[0m\n",
            "\u001b[32m[I 2021-11-02 15:56:20,114]\u001b[0m Trial 69 finished with value: 0.8695652173913043 and parameters: {'booster': 'gbtree', 'lambda': 2.74401352317397e-07, 'alpha': 3.0921820779186005e-07, 'subsample': 0.8943458461500509, 'colsample_bytree': 0.9316379825660408, 'max_depth': 5, 'min_child_weight': 3, 'eta': 2.9247368038690096e-06, 'gamma': 0.00046929641955847635, 'grow_policy': 'depthwise'}. Best is trial 68 with value: 0.9.\u001b[0m\n",
            "\u001b[32m[I 2021-11-02 15:56:20,169]\u001b[0m Trial 70 finished with value: 0.4260869565217391 and parameters: {'booster': 'dart', 'lambda': 1.202866210149166e-07, 'alpha': 0.00010225843423350051, 'subsample': 0.5375920517507715, 'colsample_bytree': 0.8763881483843448, 'max_depth': 3, 'min_child_weight': 2, 'eta': 2.4071373835167876e-07, 'gamma': 0.5011233558523648, 'grow_policy': 'lossguide', 'sample_type': 'uniform', 'normalize_type': 'forest', 'rate_drop': 0.9840315059072419, 'skip_drop': 1.2015021434087227e-08}. Best is trial 68 with value: 0.9.\u001b[0m\n",
            "\u001b[32m[I 2021-11-02 15:56:20,211]\u001b[0m Trial 71 finished with value: 0.8565217391304348 and parameters: {'booster': 'gblinear', 'lambda': 1.2290283218776454e-08, 'alpha': 0.00586012456580471, 'subsample': 0.8123601236827239, 'colsample_bytree': 0.9973214016503612}. Best is trial 68 with value: 0.9.\u001b[0m\n",
            "\u001b[32m[I 2021-11-02 15:56:20,254]\u001b[0m Trial 72 finished with value: 0.8478260869565217 and parameters: {'booster': 'gblinear', 'lambda': 0.1957127870344223, 'alpha': 2.858815981653137e-05, 'subsample': 0.8893457858849307, 'colsample_bytree': 0.9537691795445714}. Best is trial 68 with value: 0.9.\u001b[0m\n",
            "\u001b[32m[I 2021-11-02 15:56:20,290]\u001b[0m Trial 73 finished with value: 0.8869565217391304 and parameters: {'booster': 'gblinear', 'lambda': 0.03486471547475029, 'alpha': 0.0002033623040161752, 'subsample': 0.8278747983844792, 'colsample_bytree': 0.7716279942592551}. Best is trial 68 with value: 0.9.\u001b[0m\n",
            "\u001b[32m[I 2021-11-02 15:56:20,327]\u001b[0m Trial 74 finished with value: 0.8695652173913043 and parameters: {'booster': 'gblinear', 'lambda': 1.4202796518593081e-06, 'alpha': 6.765026582222536e-06, 'subsample': 0.8284939856028962, 'colsample_bytree': 0.8181952411600154}. Best is trial 68 with value: 0.9.\u001b[0m\n",
            "\u001b[32m[I 2021-11-02 15:56:20,362]\u001b[0m Trial 75 finished with value: 0.8782608695652174 and parameters: {'booster': 'gblinear', 'lambda': 0.035095352090699944, 'alpha': 0.0001733484680683428, 'subsample': 0.7580729414985574, 'colsample_bytree': 0.9674679457207449}. Best is trial 68 with value: 0.9.\u001b[0m\n",
            "\u001b[32m[I 2021-11-02 15:56:20,398]\u001b[0m Trial 76 finished with value: 0.8521739130434782 and parameters: {'booster': 'gblinear', 'lambda': 2.199777056781295e-08, 'alpha': 7.08619155840434e-05, 'subsample': 0.9289866200890304, 'colsample_bytree': 0.8627781657123179}. Best is trial 68 with value: 0.9.\u001b[0m\n",
            "\u001b[32m[I 2021-11-02 15:56:20,434]\u001b[0m Trial 77 finished with value: 0.908695652173913 and parameters: {'booster': 'gblinear', 'lambda': 0.1505253259839638, 'alpha': 1.2150021777999902e-05, 'subsample': 0.4603350874469692, 'colsample_bytree': 0.7631860793434144}. Best is trial 77 with value: 0.908695652173913.\u001b[0m\n",
            "\u001b[32m[I 2021-11-02 15:56:20,472]\u001b[0m Trial 78 finished with value: 0.9173913043478261 and parameters: {'booster': 'gblinear', 'lambda': 0.055222323640973466, 'alpha': 3.104858397775967e-06, 'subsample': 0.45084770213802255, 'colsample_bytree': 0.7664913171770491}. Best is trial 78 with value: 0.9173913043478261.\u001b[0m\n",
            "\u001b[32m[I 2021-11-02 15:56:20,511]\u001b[0m Trial 79 finished with value: 0.8478260869565217 and parameters: {'booster': 'gblinear', 'lambda': 0.1574752920413965, 'alpha': 2.2613241185141997e-06, 'subsample': 0.4509299265939548, 'colsample_bytree': 0.9193954907399003}. Best is trial 78 with value: 0.9173913043478261.\u001b[0m\n",
            "\u001b[32m[I 2021-11-02 15:56:20,569]\u001b[0m Trial 80 finished with value: 0.8695652173913043 and parameters: {'booster': 'dart', 'lambda': 0.08919341136706503, 'alpha': 1.0962337921899927e-05, 'subsample': 0.4208668583881574, 'colsample_bytree': 0.7664617056163031, 'max_depth': 7, 'min_child_weight': 8, 'eta': 0.4855302074915831, 'gamma': 2.4875592969995294e-07, 'grow_policy': 'depthwise', 'sample_type': 'weighted', 'normalize_type': 'tree', 'rate_drop': 0.07987393947532725, 'skip_drop': 6.349162669625886e-05}. Best is trial 78 with value: 0.9173913043478261.\u001b[0m\n",
            "\u001b[32m[I 2021-11-02 15:56:20,607]\u001b[0m Trial 81 finished with value: 0.8521739130434782 and parameters: {'booster': 'gblinear', 'lambda': 0.06308461095129657, 'alpha': 2.5341088343237166e-06, 'subsample': 0.37898420124176835, 'colsample_bytree': 0.8026631719079378}. Best is trial 78 with value: 0.9173913043478261.\u001b[0m\n",
            "\u001b[32m[I 2021-11-02 15:56:20,646]\u001b[0m Trial 82 finished with value: 0.8695652173913043 and parameters: {'booster': 'gblinear', 'lambda': 0.021251702728447047, 'alpha': 3.522965949654192e-05, 'subsample': 0.34669052993312666, 'colsample_bytree': 0.6774894658020071}. Best is trial 78 with value: 0.9173913043478261.\u001b[0m\n",
            "\u001b[32m[I 2021-11-02 15:56:20,682]\u001b[0m Trial 83 finished with value: 0.8608695652173913 and parameters: {'booster': 'gblinear', 'lambda': 0.008755441929115246, 'alpha': 1.3021189593560461e-06, 'subsample': 0.5023955734585909, 'colsample_bytree': 0.8240271173668767}. Best is trial 78 with value: 0.9173913043478261.\u001b[0m\n",
            "\u001b[32m[I 2021-11-02 15:56:20,717]\u001b[0m Trial 84 finished with value: 0.8347826086956521 and parameters: {'booster': 'gblinear', 'lambda': 0.5516902271899479, 'alpha': 1.135846907857924e-05, 'subsample': 0.31329309248724746, 'colsample_bytree': 0.7128023988023962}. Best is trial 78 with value: 0.9173913043478261.\u001b[0m\n",
            "\u001b[32m[I 2021-11-02 15:56:20,753]\u001b[0m Trial 85 finished with value: 0.8391304347826087 and parameters: {'booster': 'gblinear', 'lambda': 0.13181550377178938, 'alpha': 1.8044274054617482e-05, 'subsample': 0.9742682424819109, 'colsample_bytree': 0.7707386270257284}. Best is trial 78 with value: 0.9173913043478261.\u001b[0m\n",
            "\u001b[32m[I 2021-11-02 15:56:20,804]\u001b[0m Trial 86 finished with value: 0.8304347826086956 and parameters: {'booster': 'gbtree', 'lambda': 0.05007657709886206, 'alpha': 0.0007375486976756939, 'subsample': 0.3969910911943952, 'colsample_bytree': 0.5854739622978977, 'max_depth': 5, 'min_child_weight': 4, 'eta': 0.0013191818513726037, 'gamma': 0.02482882510893721, 'grow_policy': 'lossguide'}. Best is trial 78 with value: 0.9173913043478261.\u001b[0m\n",
            "\u001b[32m[I 2021-11-02 15:56:20,841]\u001b[0m Trial 87 finished with value: 0.8869565217391304 and parameters: {'booster': 'gblinear', 'lambda': 0.012736615327338519, 'alpha': 5.379717704557691e-07, 'subsample': 0.47661543225660863, 'colsample_bytree': 0.7490805514710199}. Best is trial 78 with value: 0.9173913043478261.\u001b[0m\n",
            "\u001b[32m[I 2021-11-02 15:56:20,879]\u001b[0m Trial 88 finished with value: 0.8739130434782608 and parameters: {'booster': 'gblinear', 'lambda': 4.945311174984677e-05, 'alpha': 2.0687866695060336e-07, 'subsample': 0.4772175678824478, 'colsample_bytree': 0.5204565616221901}. Best is trial 78 with value: 0.9173913043478261.\u001b[0m\n",
            "\u001b[32m[I 2021-11-02 15:56:20,916]\u001b[0m Trial 89 finished with value: 0.8304347826086956 and parameters: {'booster': 'gblinear', 'lambda': 0.00015021300474541538, 'alpha': 5.00620946227586e-06, 'subsample': 0.45726757244663696, 'colsample_bytree': 0.7515035538698833}. Best is trial 78 with value: 0.9173913043478261.\u001b[0m\n",
            "\u001b[32m[I 2021-11-02 15:56:20,975]\u001b[0m Trial 90 finished with value: 0.8217391304347826 and parameters: {'booster': 'dart', 'lambda': 0.0015414948538566254, 'alpha': 4.443537805725412e-05, 'subsample': 0.3635259374920442, 'colsample_bytree': 0.9740388151891527, 'max_depth': 9, 'min_child_weight': 2, 'eta': 0.013442607529273771, 'gamma': 3.9755008775465084e-05, 'grow_policy': 'lossguide', 'sample_type': 'uniform', 'normalize_type': 'forest', 'rate_drop': 2.568028992010311e-05, 'skip_drop': 8.019862875058954e-07}. Best is trial 78 with value: 0.9173913043478261.\u001b[0m\n",
            "\u001b[32m[I 2021-11-02 15:56:21,011]\u001b[0m Trial 91 finished with value: 0.8782608695652174 and parameters: {'booster': 'gblinear', 'lambda': 0.00333006938721752, 'alpha': 0.002893085694524451, 'subsample': 0.519768168443687, 'colsample_bytree': 0.4908774655726174}. Best is trial 78 with value: 0.9173913043478261.\u001b[0m\n",
            "\u001b[32m[I 2021-11-02 15:56:21,048]\u001b[0m Trial 92 finished with value: 0.8347826086956521 and parameters: {'booster': 'gblinear', 'lambda': 0.025550366453008004, 'alpha': 8.328145236581699e-08, 'subsample': 0.437728774148115, 'colsample_bytree': 0.8042705532862107}. Best is trial 78 with value: 0.9173913043478261.\u001b[0m\n",
            "\u001b[32m[I 2021-11-02 15:56:21,088]\u001b[0m Trial 93 finished with value: 0.8739130434782608 and parameters: {'booster': 'gblinear', 'lambda': 0.0023720563980184524, 'alpha': 0.00037248394067394526, 'subsample': 0.5923422230083163, 'colsample_bytree': 0.6958707851606282}. Best is trial 78 with value: 0.9173913043478261.\u001b[0m\n",
            "\u001b[32m[I 2021-11-02 15:56:21,124]\u001b[0m Trial 94 finished with value: 0.8391304347826087 and parameters: {'booster': 'gblinear', 'lambda': 1.5015274371130051e-05, 'alpha': 1.3118735321074434e-06, 'subsample': 0.8731627526957205, 'colsample_bytree': 0.755829481098803}. Best is trial 78 with value: 0.9173913043478261.\u001b[0m\n",
            "\u001b[32m[I 2021-11-02 15:56:21,163]\u001b[0m Trial 95 finished with value: 0.8347826086956521 and parameters: {'booster': 'gblinear', 'lambda': 0.03125132921086595, 'alpha': 0.001331796192796071, 'subsample': 0.8348039666570194, 'colsample_bytree': 0.8569521151634912}. Best is trial 78 with value: 0.9173913043478261.\u001b[0m\n",
            "\u001b[32m[I 2021-11-02 15:56:21,209]\u001b[0m Trial 96 finished with value: 0.8913043478260869 and parameters: {'booster': 'gblinear', 'lambda': 0.05759461534884305, 'alpha': 8.492800572935744e-05, 'subsample': 0.3961721209919512, 'colsample_bytree': 0.6456063792861518}. Best is trial 78 with value: 0.9173913043478261.\u001b[0m\n",
            "\u001b[32m[I 2021-11-02 15:56:21,248]\u001b[0m Trial 97 finished with value: 0.8739130434782608 and parameters: {'booster': 'gblinear', 'lambda': 0.015366523233952923, 'alpha': 9.578870189395576e-07, 'subsample': 0.4218847157382231, 'colsample_bytree': 0.9161542420807268}. Best is trial 78 with value: 0.9173913043478261.\u001b[0m\n",
            "\u001b[32m[I 2021-11-02 15:56:21,288]\u001b[0m Trial 98 finished with value: 0.8478260869565217 and parameters: {'booster': 'gblinear', 'lambda': 0.2698873091688788, 'alpha': 3.4553243853517482e-06, 'subsample': 0.28921283095479533, 'colsample_bytree': 0.635247746570589}. Best is trial 78 with value: 0.9173913043478261.\u001b[0m\n",
            "\u001b[32m[I 2021-11-02 15:56:21,327]\u001b[0m Trial 99 finished with value: 0.8652173913043478 and parameters: {'booster': 'gblinear', 'lambda': 1.373864969422675e-06, 'alpha': 7.864100840329788e-05, 'subsample': 0.5547975239202187, 'colsample_bytree': 0.4315715167903139}. Best is trial 78 with value: 0.9173913043478261.\u001b[0m\n"
          ]
        },
        {
          "output_type": "stream",
          "name": "stdout",
          "text": [
            "Number of finished trials:  100\n",
            "Best trial:\n",
            "  Value: 0.9173913043478261\n",
            "  Params: \n",
            "    booster: gblinear\n",
            "    lambda: 0.055222323640973466\n",
            "    alpha: 3.104858397775967e-06\n",
            "    subsample: 0.45084770213802255\n",
            "    colsample_bytree: 0.7664913171770491\n"
          ]
        }
      ]
    },
    {
      "cell_type": "code",
      "metadata": {
        "id": "tnW13GpUWht0"
      },
      "source": [
        ""
      ],
      "execution_count": null,
      "outputs": []
    },
    {
      "cell_type": "code",
      "metadata": {
        "colab": {
          "base_uri": "https://localhost:8080/",
          "height": 80
        },
        "id": "PdFx5dPG7Inn",
        "outputId": "7eb6d9c3-6725-4626-826b-444e34475a88"
      },
      "source": [
        "from sklearn.metrics import accuracy_score,classification_report, recall_score,confusion_matrix, roc_auc_score, precision_score, f1_score, roc_curve, auc, plot_confusion_matrix,plot_roc_curve\n",
        "\n",
        "from  xgboost import XGBClassifier\n",
        "accuracy= []\n",
        "recall =[]\n",
        "roc_auc= []\n",
        "precision = []\n",
        "\n",
        "df = pd.read_csv(\"heart.csv\")\n",
        "df1 = df.copy()\n",
        "le = LabelEncoder()\n",
        "df1['HeartDisease']=le.fit_transform(df1['HeartDisease'])\n",
        "\n",
        "df1= pd.get_dummies(df1)\n",
        "X= df1.drop('HeartDisease', axis=1)\n",
        "y= df1['HeartDisease']\n",
        "X_train, X_test, y_train, y_test = train_test_split(X, y, test_size=0.3, random_state=42)\n",
        "params = { 'booster': 'gbtree', 'lambda': 0.001810624103124616, 'alpha': 5.155539886255509e-08, 'subsample': 0.8726659831593165, 'colsample_bytree': 0.27520097081786943, 'max_depth': 7, 'min_child_weight': 6, 'eta': 4.357335051999289e-07, 'gamma': 0.003914573724541214, 'grow_policy': 'depthwise'}\n",
        "xgbc_5 = XGBClassifier(**params\n",
        "   )\n",
        "\n",
        "xgbc_5.fit(X_train, y_train)\n",
        "y_pred = xgbc_5.predict(X_test)\n",
        "\n",
        "accuracy.append(round(accuracy_score(y_test, y_pred),4))\n",
        "recall.append(round(recall_score(y_test, y_pred),4))\n",
        "roc_auc.append(round(roc_auc_score(y_test, y_pred),4))\n",
        "precision.append(round(precision_score(y_test, y_pred),4))\n",
        "\n",
        "model_names = ['XGBoost_adjusted_weight_5']\n",
        "result_df6 = pd.DataFrame({'Accuracy':accuracy,'Recall':recall, 'Roc_Auc':roc_auc, 'Precision':precision}, index=model_names)\n",
        "result_df6"
      ],
      "execution_count": null,
      "outputs": [
        {
          "output_type": "execute_result",
          "data": {
            "text/html": [
              "<div>\n",
              "<style scoped>\n",
              "    .dataframe tbody tr th:only-of-type {\n",
              "        vertical-align: middle;\n",
              "    }\n",
              "\n",
              "    .dataframe tbody tr th {\n",
              "        vertical-align: top;\n",
              "    }\n",
              "\n",
              "    .dataframe thead th {\n",
              "        text-align: right;\n",
              "    }\n",
              "</style>\n",
              "<table border=\"1\" class=\"dataframe\">\n",
              "  <thead>\n",
              "    <tr style=\"text-align: right;\">\n",
              "      <th></th>\n",
              "      <th>Accuracy</th>\n",
              "      <th>Recall</th>\n",
              "      <th>Roc_Auc</th>\n",
              "      <th>Precision</th>\n",
              "    </tr>\n",
              "  </thead>\n",
              "  <tbody>\n",
              "    <tr>\n",
              "      <th>XGBoost_adjusted_weight_5</th>\n",
              "      <td>0.8877</td>\n",
              "      <td>0.8902</td>\n",
              "      <td>0.8871</td>\n",
              "      <td>0.9182</td>\n",
              "    </tr>\n",
              "  </tbody>\n",
              "</table>\n",
              "</div>"
            ],
            "text/plain": [
              "                           Accuracy  Recall  Roc_Auc  Precision\n",
              "XGBoost_adjusted_weight_5    0.8877  0.8902   0.8871     0.9182"
            ]
          },
          "metadata": {},
          "execution_count": 111
        }
      ]
    },
    {
      "cell_type": "code",
      "metadata": {
        "colab": {
          "base_uri": "https://localhost:8080/"
        },
        "id": "0kFoEZMYWjJF",
        "outputId": "95f13182-a9b8-48c1-e268-55ff5912cf87"
      },
      "source": [
        "% pip install pipdeptree\n",
        "% pip install optuna"
      ],
      "execution_count": null,
      "outputs": [
        {
          "output_type": "stream",
          "name": "stdout",
          "text": [
            "Requirement already satisfied: pipdeptree in /usr/local/lib/python3.7/dist-packages (2.2.0)\n",
            "Requirement already satisfied: pip>=6.0.0 in /usr/local/lib/python3.7/dist-packages (from pipdeptree) (21.1.3)\n",
            "Collecting optuna\n",
            "  Downloading optuna-2.10.0-py3-none-any.whl (308 kB)\n",
            "\u001b[K     |████████████████████████████████| 308 kB 4.2 MB/s \n",
            "\u001b[?25hRequirement already satisfied: scipy!=1.4.0 in /usr/local/lib/python3.7/dist-packages (from optuna) (1.4.1)\n",
            "Requirement already satisfied: PyYAML in /usr/local/lib/python3.7/dist-packages (from optuna) (3.13)\n",
            "Collecting alembic\n",
            "  Downloading alembic-1.7.4-py3-none-any.whl (209 kB)\n",
            "\u001b[K     |████████████████████████████████| 209 kB 50.0 MB/s \n",
            "\u001b[?25hCollecting cliff\n",
            "  Downloading cliff-3.9.0-py3-none-any.whl (80 kB)\n",
            "\u001b[K     |████████████████████████████████| 80 kB 8.7 MB/s \n",
            "\u001b[?25hRequirement already satisfied: packaging>=20.0 in /usr/local/lib/python3.7/dist-packages (from optuna) (21.0)\n",
            "Collecting cmaes>=0.8.2\n",
            "  Downloading cmaes-0.8.2-py3-none-any.whl (15 kB)\n",
            "Requirement already satisfied: sqlalchemy>=1.1.0 in /usr/local/lib/python3.7/dist-packages (from optuna) (1.4.25)\n",
            "Requirement already satisfied: tqdm in /usr/local/lib/python3.7/dist-packages (from optuna) (4.62.3)\n",
            "Collecting colorlog\n",
            "  Downloading colorlog-6.5.0-py2.py3-none-any.whl (11 kB)\n",
            "Requirement already satisfied: numpy in /usr/local/lib/python3.7/dist-packages (from optuna) (1.19.5)\n",
            "Requirement already satisfied: pyparsing>=2.0.2 in /usr/local/lib/python3.7/dist-packages (from packaging>=20.0->optuna) (2.4.7)\n",
            "Requirement already satisfied: importlib-metadata in /usr/local/lib/python3.7/dist-packages (from sqlalchemy>=1.1.0->optuna) (4.8.1)\n",
            "Requirement already satisfied: greenlet!=0.4.17 in /usr/local/lib/python3.7/dist-packages (from sqlalchemy>=1.1.0->optuna) (1.1.2)\n",
            "Requirement already satisfied: importlib-resources in /usr/local/lib/python3.7/dist-packages (from alembic->optuna) (5.2.2)\n",
            "Collecting Mako\n",
            "  Downloading Mako-1.1.5-py2.py3-none-any.whl (75 kB)\n",
            "\u001b[K     |████████████████████████████████| 75 kB 4.3 MB/s \n",
            "\u001b[?25hCollecting stevedore>=2.0.1\n",
            "  Downloading stevedore-3.5.0-py3-none-any.whl (49 kB)\n",
            "\u001b[K     |████████████████████████████████| 49 kB 6.0 MB/s \n",
            "\u001b[?25hCollecting cmd2>=1.0.0\n",
            "  Downloading cmd2-2.2.0-py3-none-any.whl (144 kB)\n",
            "\u001b[K     |████████████████████████████████| 144 kB 61.0 MB/s \n",
            "\u001b[?25hCollecting pbr!=2.1.0,>=2.0.0\n",
            "  Downloading pbr-5.6.0-py2.py3-none-any.whl (111 kB)\n",
            "\u001b[K     |████████████████████████████████| 111 kB 38.1 MB/s \n",
            "\u001b[?25hCollecting autopage>=0.4.0\n",
            "  Downloading autopage-0.4.0-py3-none-any.whl (20 kB)\n",
            "Requirement already satisfied: PrettyTable>=0.7.2 in /usr/local/lib/python3.7/dist-packages (from cliff->optuna) (2.2.1)\n",
            "Collecting pyperclip>=1.6\n",
            "  Downloading pyperclip-1.8.2.tar.gz (20 kB)\n",
            "Requirement already satisfied: wcwidth>=0.1.7 in /usr/local/lib/python3.7/dist-packages (from cmd2>=1.0.0->cliff->optuna) (0.2.5)\n",
            "Requirement already satisfied: attrs>=16.3.0 in /usr/local/lib/python3.7/dist-packages (from cmd2>=1.0.0->cliff->optuna) (21.2.0)\n",
            "Collecting colorama>=0.3.7\n",
            "  Downloading colorama-0.4.4-py2.py3-none-any.whl (16 kB)\n",
            "Requirement already satisfied: typing-extensions in /usr/local/lib/python3.7/dist-packages (from cmd2>=1.0.0->cliff->optuna) (3.7.4.3)\n",
            "Requirement already satisfied: zipp>=0.5 in /usr/local/lib/python3.7/dist-packages (from importlib-metadata->sqlalchemy>=1.1.0->optuna) (3.6.0)\n",
            "Requirement already satisfied: MarkupSafe>=0.9.2 in /usr/local/lib/python3.7/dist-packages (from Mako->alembic->optuna) (2.0.1)\n",
            "Building wheels for collected packages: pyperclip\n",
            "  Building wheel for pyperclip (setup.py) ... \u001b[?25l\u001b[?25hdone\n",
            "  Created wheel for pyperclip: filename=pyperclip-1.8.2-py3-none-any.whl size=11136 sha256=20b1814531d419374cab4ad9c57663c5dd8583c599f2f06a4e025445b444e5ae\n",
            "  Stored in directory: /root/.cache/pip/wheels/9f/18/84/8f69f8b08169c7bae2dde6bd7daf0c19fca8c8e500ee620a28\n",
            "Successfully built pyperclip\n",
            "Installing collected packages: pyperclip, pbr, colorama, stevedore, Mako, cmd2, autopage, colorlog, cmaes, cliff, alembic, optuna\n",
            "Successfully installed Mako-1.1.5 alembic-1.7.4 autopage-0.4.0 cliff-3.9.0 cmaes-0.8.2 cmd2-2.2.0 colorama-0.4.4 colorlog-6.5.0 optuna-2.10.0 pbr-5.6.0 pyperclip-1.8.2 stevedore-3.5.0\n"
          ]
        }
      ]
    },
    {
      "cell_type": "code",
      "metadata": {
        "colab": {
          "base_uri": "https://localhost:8080/"
        },
        "id": "SwWCMeiJW9tp",
        "outputId": "ac57dc6b-72c9-478f-e9b3-a1cf2b3e4d09"
      },
      "source": [
        "import pipdeptree\n",
        "import optuna\n",
        "print('Done')"
      ],
      "execution_count": null,
      "outputs": [
        {
          "output_type": "stream",
          "name": "stdout",
          "text": [
            "Done\n"
          ]
        }
      ]
    },
    {
      "cell_type": "code",
      "metadata": {
        "colab": {
          "base_uri": "https://localhost:8080/"
        },
        "id": "EP8fzh8SXCbp",
        "outputId": "1633335c-8c74-4f35-d629-923f14d5cca6"
      },
      "source": [
        "! pipdeptree --packages optuna"
      ],
      "execution_count": null,
      "outputs": [
        {
          "output_type": "stream",
          "name": "stdout",
          "text": [
            "Warning!!! Possibly conflicting dependencies found:\n",
            "* albumentations==0.1.12\n",
            " - imgaug [required: >=0.2.5,<0.2.7, installed: 0.2.9]\n",
            "* datascience==0.10.6\n",
            " - folium [required: ==0.2.1, installed: 0.8.3]\n",
            "* nbclient==0.5.4\n",
            " - jupyter-client [required: >=6.1.5, installed: 5.3.5]\n",
            "------------------------------------------------------------------------\n",
            "optuna==2.10.0\n",
            "  - alembic [required: Any, installed: 1.7.4]\n",
            "    - importlib-metadata [required: Any, installed: 4.8.1]\n",
            "      - typing-extensions [required: >=3.6.4, installed: 3.7.4.3]\n",
            "      - zipp [required: >=0.5, installed: 3.6.0]\n",
            "    - importlib-resources [required: Any, installed: 5.2.2]\n",
            "      - zipp [required: >=3.1.0, installed: 3.6.0]\n",
            "    - Mako [required: Any, installed: 1.1.5]\n",
            "      - MarkupSafe [required: >=0.9.2, installed: 2.0.1]\n",
            "    - SQLAlchemy [required: >=1.3.0, installed: 1.4.25]\n",
            "      - greenlet [required: !=0.4.17, installed: 1.1.2]\n",
            "      - importlib-metadata [required: Any, installed: 4.8.1]\n",
            "        - typing-extensions [required: >=3.6.4, installed: 3.7.4.3]\n",
            "        - zipp [required: >=0.5, installed: 3.6.0]\n",
            "  - cliff [required: Any, installed: 3.9.0]\n",
            "    - autopage [required: >=0.4.0, installed: 0.4.0]\n",
            "    - cmd2 [required: >=1.0.0, installed: 2.2.0]\n",
            "      - attrs [required: >=16.3.0, installed: 21.2.0]\n",
            "      - colorama [required: >=0.3.7, installed: 0.4.4]\n",
            "      - importlib-metadata [required: >=1.6.0, installed: 4.8.1]\n",
            "        - typing-extensions [required: >=3.6.4, installed: 3.7.4.3]\n",
            "        - zipp [required: >=0.5, installed: 3.6.0]\n",
            "      - pyperclip [required: >=1.6, installed: 1.8.2]\n",
            "      - typing-extensions [required: Any, installed: 3.7.4.3]\n",
            "      - wcwidth [required: >=0.1.7, installed: 0.2.5]\n",
            "    - pbr [required: >=2.0.0,!=2.1.0, installed: 5.6.0]\n",
            "    - PrettyTable [required: >=0.7.2, installed: 2.2.1]\n",
            "      - importlib-metadata [required: Any, installed: 4.8.1]\n",
            "        - typing-extensions [required: >=3.6.4, installed: 3.7.4.3]\n",
            "        - zipp [required: >=0.5, installed: 3.6.0]\n",
            "      - wcwidth [required: Any, installed: 0.2.5]\n",
            "    - pyparsing [required: >=2.1.0, installed: 2.4.7]\n",
            "    - PyYAML [required: >=3.12, installed: 3.13]\n",
            "    - stevedore [required: >=2.0.1, installed: 3.5.0]\n",
            "      - importlib-metadata [required: >=1.7.0, installed: 4.8.1]\n",
            "        - typing-extensions [required: >=3.6.4, installed: 3.7.4.3]\n",
            "        - zipp [required: >=0.5, installed: 3.6.0]\n",
            "      - pbr [required: >=2.0.0,!=2.1.0, installed: 5.6.0]\n",
            "  - cmaes [required: >=0.8.2, installed: 0.8.2]\n",
            "    - numpy [required: Any, installed: 1.19.5]\n",
            "  - colorlog [required: Any, installed: 6.5.0]\n",
            "  - numpy [required: Any, installed: 1.19.5]\n",
            "  - packaging [required: >=20.0, installed: 21.0]\n",
            "    - pyparsing [required: >=2.0.2, installed: 2.4.7]\n",
            "  - PyYAML [required: Any, installed: 3.13]\n",
            "  - scipy [required: !=1.4.0, installed: 1.4.1]\n",
            "    - numpy [required: >=1.13.3, installed: 1.19.5]\n",
            "  - sqlalchemy [required: >=1.1.0, installed: 1.4.25]\n",
            "    - greenlet [required: !=0.4.17, installed: 1.1.2]\n",
            "    - importlib-metadata [required: Any, installed: 4.8.1]\n",
            "      - typing-extensions [required: >=3.6.4, installed: 3.7.4.3]\n",
            "      - zipp [required: >=0.5, installed: 3.6.0]\n",
            "  - tqdm [required: Any, installed: 4.62.3]\n"
          ]
        }
      ]
    }
  ]
}