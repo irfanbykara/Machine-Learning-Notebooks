{
  "nbformat": 4,
  "nbformat_minor": 0,
  "metadata": {
    "colab": {
      "provenance": [],
      "gpuType": "T4",
      "authorship_tag": "ABX9TyO9B3qdIpmh9yvLT13peB7f",
      "include_colab_link": true
    },
    "kernelspec": {
      "name": "python3",
      "display_name": "Python 3"
    },
    "language_info": {
      "name": "python"
    },
    "accelerator": "GPU"
  },
  "cells": [
    {
      "cell_type": "markdown",
      "metadata": {
        "id": "view-in-github",
        "colab_type": "text"
      },
      "source": [
        "<a href=\"https://colab.research.google.com/github/irfanbykara/Machine-Learning-Notebooks/blob/main/ResNet_Implementation_Pytorch.ipynb\" target=\"_parent\"><img src=\"https://colab.research.google.com/assets/colab-badge.svg\" alt=\"Open In Colab\"/></a>"
      ]
    },
    {
      "cell_type": "markdown",
      "source": [
        "Here is the implementation of Resnet-34 from scratch...\n"
      ],
      "metadata": {
        "id": "G83iEifyL5vc"
      }
    },
    {
      "cell_type": "code",
      "execution_count": null,
      "metadata": {
        "id": "qygqPpJT1Hkw"
      },
      "outputs": [],
      "source": [
        "import numpy as np\n",
        "import torch\n",
        "import torch.nn as nn\n",
        "from torchvision import datasets\n",
        "from torchvision import transforms\n",
        "from torch.utils.data.sampler import SubsetRandomSampler\n",
        "\n"
      ]
    },
    {
      "cell_type": "code",
      "source": [
        "# Device agnostic\n",
        "device = torch.device('cuda' if torch.cuda.is_available() else 'cpu')\n"
      ],
      "metadata": {
        "id": "UwPVMLf51asr"
      },
      "execution_count": null,
      "outputs": []
    },
    {
      "cell_type": "code",
      "source": [
        "def data_loader(data_dir,\n",
        "                batch_size,\n",
        "                random_seed=42,\n",
        "                valid_size=0.1,\n",
        "                shuffle=True,\n",
        "                test=False):\n",
        "  \n",
        "    normalize = transforms.Normalize(\n",
        "        mean=[0.4914, 0.4822, 0.4465],\n",
        "        std=[0.2023, 0.1994, 0.2010],\n",
        "    )\n",
        "\n",
        "    # define transforms\n",
        "    transform = transforms.Compose([\n",
        "            transforms.Resize((224,224)),\n",
        "            transforms.ToTensor(),\n",
        "            normalize,\n",
        "    ])\n",
        "\n",
        "    if test:\n",
        "        dataset = datasets.CIFAR10(\n",
        "          root=data_dir, train=False,\n",
        "          download=True, transform=transform,\n",
        "        )\n",
        "\n",
        "        data_loader = torch.utils.data.DataLoader(\n",
        "            dataset, batch_size=batch_size, shuffle=shuffle\n",
        "        )\n",
        "\n",
        "        return data_loader\n",
        "\n",
        "    # load the dataset\n",
        "    train_dataset = datasets.CIFAR10(\n",
        "        root=data_dir, train=True,\n",
        "        download=True, transform=transform,\n",
        "    )\n",
        "\n",
        "    valid_dataset = datasets.CIFAR10(\n",
        "        root=data_dir, train=True,\n",
        "        download=True, transform=transform,\n",
        "    )\n",
        "\n",
        "    num_train = len(train_dataset)\n",
        "    indices = list(range(num_train))\n",
        "    split = int(np.floor(valid_size * num_train))\n",
        "\n",
        "    if shuffle:\n",
        "        np.random.seed(42)\n",
        "        np.random.shuffle(indices)\n",
        "\n",
        "    train_idx, valid_idx = indices[split:], indices[:split]\n",
        "    train_sampler = SubsetRandomSampler(train_idx)\n",
        "    valid_sampler = SubsetRandomSampler(valid_idx)\n",
        "\n",
        "    train_loader = torch.utils.data.DataLoader(\n",
        "        train_dataset, batch_size=batch_size, sampler=train_sampler)\n",
        " \n",
        "    valid_loader = torch.utils.data.DataLoader(\n",
        "        valid_dataset, batch_size=batch_size, sampler=valid_sampler)\n",
        "\n",
        "    return (train_loader, valid_loader)\n",
        "\n",
        "\n",
        "# CIFAR10 dataset \n",
        "train_loader, valid_loader = data_loader(data_dir='./data',\n",
        "                                         batch_size=64)\n",
        "\n",
        "test_loader = data_loader(data_dir='./data',\n",
        "                              batch_size=64,\n",
        "                              test=True)\n"
      ],
      "metadata": {
        "colab": {
          "base_uri": "https://localhost:8080/"
        },
        "id": "plEIG5qGCR72",
        "outputId": "2d5bcf7a-d842-4cc0-e2e9-81b2c2d2fb07"
      },
      "execution_count": null,
      "outputs": [
        {
          "output_type": "stream",
          "name": "stdout",
          "text": [
            "Downloading https://www.cs.toronto.edu/~kriz/cifar-10-python.tar.gz to ./data/cifar-10-python.tar.gz\n"
          ]
        },
        {
          "output_type": "stream",
          "name": "stderr",
          "text": [
            "100%|██████████| 170498071/170498071 [00:02<00:00, 84777688.33it/s]\n"
          ]
        },
        {
          "output_type": "stream",
          "name": "stdout",
          "text": [
            "Extracting ./data/cifar-10-python.tar.gz to ./data\n",
            "Files already downloaded and verified\n",
            "Files already downloaded and verified\n"
          ]
        }
      ]
    },
    {
      "cell_type": "code",
      "source": [
        "class ResidualBlock(nn.Module):\n",
        "  def __init__(self,in_channels,out_channels,stride=1,downsample=None):\n",
        "    super(ResidualBlock,self).__init__()\n",
        "    self.conv1 = nn.Sequential(\n",
        "        nn.Conv2d(in_channels,out_channels,kernel_size=3,stride=stride,padding=1),\n",
        "          nn.BatchNorm2d(out_channels),\n",
        "          nn.ReLU()\n",
        "          )\n",
        "    self.conv2 = nn.Sequential(\n",
        "      nn.Conv2d(out_channels,out_channels,kernel_size=3,stride=1,padding=1),\n",
        "      nn.BatchNorm2d(out_channels)\n",
        "    )\n",
        "    self.relu = nn.ReLU()\n",
        "    self.out_channels = out_channels\n",
        "    self.downsample = downsample\n",
        "  \n",
        "  def forward(self,x):\n",
        "    residual = x\n",
        "    out = self.conv1(x)\n",
        "    out = self.conv2(out)\n",
        "    if self.downsample:\n",
        "      residual = self.downsample(x)\n",
        "    # print(out.shape,residual.shape)\n",
        "    out += residual\n",
        "    out = self.relu(out)\n",
        "    return out\n",
        "    "
      ],
      "metadata": {
        "id": "cCFQvUxq3M69"
      },
      "execution_count": null,
      "outputs": []
    },
    {
      "cell_type": "code",
      "source": [
        "class ResNet(nn.Module):\n",
        "  def __init__(self,block,layers,num_classes):\n",
        "    super(ResNet,self).__init__()\n",
        "    self.in_channels = 64\n",
        "    self.conv1 = nn.Sequential(\n",
        "        nn.Conv2d(3,64,kernel_size=7,stride=2,padding=3),\n",
        "        nn.BatchNorm2d(64),\n",
        "        nn.ReLU()\n",
        "    )\n",
        "    self.max_pool = nn.MaxPool2d(kernel_size=3,stride=2,padding=1)\n",
        "    self.layer0 = self._get_layer(block,64,layers[0],stride=1)\n",
        "    self.layer1 = self._get_layer(block, 128, layers[1], stride = 2)\n",
        "    self.layer2 = self._get_layer(block, 256, layers[2], stride = 2)\n",
        "    self.layer3 = self._get_layer(block, 512, layers[3], stride = 2)\n",
        "    self.avgpool = nn.AvgPool2d(7, stride=1)\n",
        "    self.fc = nn.Linear(512, num_classes)\n",
        "\n",
        "  \n",
        "\n",
        "\n",
        "  def _get_layer(self,block,channels,blocks,stride=1):\n",
        "    downsample = None\n",
        "    if stride != 1 or self.in_channels != channels:\n",
        "      downsample = nn.Sequential(\n",
        "          nn.Conv2d(self.in_channels,channels,kernel_size = 1,stride=stride,),\n",
        "          nn.BatchNorm2d(channels)\n",
        "      )\n",
        "    layers = []\n",
        "    layers.append(block(self.in_channels,channels,stride,downsample))\n",
        "    self.in_channels = channels\n",
        "    for i in range(1, blocks):\n",
        "      layers.append(block(self.in_channels, channels))\n",
        "\n",
        "    return nn.Sequential(*layers)\n",
        "\n",
        "   \n",
        "  def forward(self, x):\n",
        "      x = self.conv1(x)\n",
        "      x = self.max_pool(x)\n",
        "      x = self.layer0(x)\n",
        "      x = self.layer1(x)\n",
        "      x = self.layer2(x)\n",
        "      x = self.layer3(x)\n",
        "\n",
        "      x = self.avgpool(x)\n",
        "      x = x.view(x.size(0), -1)\n",
        "      x = self.fc(x)\n",
        "\n",
        "      return x\n"
      ],
      "metadata": {
        "id": "pLoi7ynG7WZR"
      },
      "execution_count": null,
      "outputs": []
    },
    {
      "cell_type": "code",
      "source": [
        "num_classes = 10\n",
        "num_epochs = 20\n",
        "batch_size = 16\n",
        "learning_rate = 0.01\n",
        "\n",
        "model = ResNet(ResidualBlock, [3, 4, 6, 3],num_classes).to(device)\n",
        "\n",
        "# Loss and optimizer\n",
        "criterion = nn.CrossEntropyLoss()\n",
        "optimizer = torch.optim.SGD(model.parameters(), lr=learning_rate, weight_decay = 0.001, momentum = 0.9)  \n",
        "\n"
      ],
      "metadata": {
        "id": "sgNY1lfPB0bT"
      },
      "execution_count": null,
      "outputs": []
    },
    {
      "cell_type": "code",
      "source": [
        "len(train_loader)"
      ],
      "metadata": {
        "colab": {
          "base_uri": "https://localhost:8080/"
        },
        "id": "lbAk8exICxKD",
        "outputId": "63da763a-f31e-427c-f080-0cf56fb258ac"
      },
      "execution_count": null,
      "outputs": [
        {
          "output_type": "execute_result",
          "data": {
            "text/plain": [
              "704"
            ]
          },
          "metadata": {},
          "execution_count": 7
        }
      ]
    },
    {
      "cell_type": "code",
      "source": [
        "import gc\n",
        "total_step = len(train_loader)\n",
        "\n",
        "train_acc = []\n",
        "valid_acc = []\n",
        "for epoch in range(num_epochs):\n",
        "  correct_train = 0 \n",
        "  total_train = 0\n",
        "  for i,(images,labels) in enumerate(train_loader):\n",
        "    \n",
        "    images = images.to(device)\n",
        "    labels = labels.to(device)\n",
        "    output = model(images)\n",
        "    _, predicted = torch.max(output.data, 1)\n",
        "    total_train += labels.size(0)\n",
        "    correct_train += (predicted == labels).sum().item()\n",
        "    loss = criterion(output,labels)\n",
        "\n",
        "    optimizer.zero_grad()\n",
        "    loss.backward()\n",
        "    optimizer.step()\n",
        "    del images,labels,output\n",
        "    torch.cuda.empty_cache()\n",
        "    gc.collect()\n",
        "\n",
        "  print ('Epoch [{}/{}], Loss: {:.4f}' \n",
        "              .format(epoch+1, num_epochs, loss.item()))\n",
        "  print('Accuracy of the network on the {} train images: {} %'.format(5000, 100 * correct_train / total_train)) \n",
        "  train_acc.append(correct_train / total_train)\n",
        "\n",
        "  \n",
        "\n",
        "  with torch.no_grad():\n",
        "    correct_valid = 0\n",
        "    total_valid = 0\n",
        "    for images, labels in valid_loader:\n",
        "      images = images.to(device)\n",
        "      labels = labels.to(device)\n",
        "\n",
        "      output = model(images)\n",
        "      _, predicted = torch.max(output.data, 1)\n",
        "      total_valid += labels.size(0)\n",
        "      correct_valid += (predicted == labels).sum().item()\n",
        "      del images, labels, output\n",
        "  \n",
        "    print('Accuracy of the network on the {} validation images: {} %'.format(5000, 100 * correct_valid / total_valid)) \n",
        "    valid_acc.append(correct_valid / total_valid)\n",
        "\n"
      ],
      "metadata": {
        "colab": {
          "base_uri": "https://localhost:8080/"
        },
        "id": "3bA1aSkWC7ZW",
        "outputId": "29920598-978a-42a7-a574-3d4d3edcecd7"
      },
      "execution_count": null,
      "outputs": [
        {
          "output_type": "stream",
          "name": "stdout",
          "text": [
            "Epoch [1/20], Loss: 1.0085\n",
            "Accuracy of the network on the 5000 train images: 77.09333333333333 %\n",
            "Accuracy of the network on the 5000 validation images: 76.2 %\n",
            "Epoch [2/20], Loss: 0.6771\n",
            "Accuracy of the network on the 5000 train images: 81.31555555555556 %\n",
            "Accuracy of the network on the 5000 validation images: 80.54 %\n",
            "Epoch [3/20], Loss: 1.1754\n",
            "Accuracy of the network on the 5000 train images: 84.43111111111111 %\n",
            "Accuracy of the network on the 5000 validation images: 81.56 %\n",
            "Epoch [4/20], Loss: 0.0592\n",
            "Accuracy of the network on the 5000 train images: 86.59333333333333 %\n",
            "Accuracy of the network on the 5000 validation images: 81.58 %\n",
            "Epoch [5/20], Loss: 0.0370\n",
            "Accuracy of the network on the 5000 train images: 88.81777777777778 %\n",
            "Accuracy of the network on the 5000 validation images: 83.16 %\n",
            "Epoch [6/20], Loss: 0.7672\n",
            "Accuracy of the network on the 5000 train images: 90.51555555555555 %\n",
            "Accuracy of the network on the 5000 validation images: 82.82 %\n",
            "Epoch [7/20], Loss: 0.1468\n",
            "Accuracy of the network on the 5000 train images: 92.06666666666666 %\n",
            "Accuracy of the network on the 5000 validation images: 83.3 %\n",
            "Epoch [8/20], Loss: 0.5591\n",
            "Accuracy of the network on the 5000 train images: 93.09555555555555 %\n",
            "Accuracy of the network on the 5000 validation images: 84.24 %\n",
            "Epoch [9/20], Loss: 1.3201\n",
            "Accuracy of the network on the 5000 train images: 93.85777777777778 %\n",
            "Accuracy of the network on the 5000 validation images: 83.56 %\n",
            "Epoch [10/20], Loss: 0.6640\n",
            "Accuracy of the network on the 5000 train images: 94.88 %\n",
            "Accuracy of the network on the 5000 validation images: 83.38 %\n",
            "Epoch [11/20], Loss: 0.0336\n",
            "Accuracy of the network on the 5000 train images: 95.42 %\n",
            "Accuracy of the network on the 5000 validation images: 83.08 %\n",
            "Epoch [12/20], Loss: 0.3026\n",
            "Accuracy of the network on the 5000 train images: 96.14888888888889 %\n",
            "Accuracy of the network on the 5000 validation images: 84.46 %\n",
            "Epoch [13/20], Loss: 0.0853\n",
            "Accuracy of the network on the 5000 train images: 96.5 %\n",
            "Accuracy of the network on the 5000 validation images: 83.96 %\n",
            "Epoch [14/20], Loss: 0.3698\n",
            "Accuracy of the network on the 5000 train images: 96.98222222222222 %\n",
            "Accuracy of the network on the 5000 validation images: 84.12 %\n",
            "Epoch [15/20], Loss: 0.0065\n",
            "Accuracy of the network on the 5000 train images: 96.32 %\n",
            "Accuracy of the network on the 5000 validation images: 84.04 %\n",
            "Epoch [16/20], Loss: 0.0893\n",
            "Accuracy of the network on the 5000 train images: 97.42888888888889 %\n",
            "Accuracy of the network on the 5000 validation images: 84.62 %\n",
            "Epoch [17/20], Loss: 0.0928\n",
            "Accuracy of the network on the 5000 train images: 97.70222222222222 %\n",
            "Accuracy of the network on the 5000 validation images: 84.52 %\n",
            "Epoch [18/20], Loss: 0.1218\n",
            "Accuracy of the network on the 5000 train images: 97.11333333333333 %\n",
            "Accuracy of the network on the 5000 validation images: 84.02 %\n",
            "Epoch [19/20], Loss: 0.1728\n",
            "Accuracy of the network on the 5000 train images: 97.22444444444444 %\n",
            "Accuracy of the network on the 5000 validation images: 83.24 %\n",
            "Epoch [20/20], Loss: 0.2085\n",
            "Accuracy of the network on the 5000 train images: 97.31111111111112 %\n",
            "Accuracy of the network on the 5000 validation images: 84.38 %\n"
          ]
        }
      ]
    },
    {
      "cell_type": "code",
      "source": [],
      "metadata": {
        "id": "wLrQdk1hHcX3"
      },
      "execution_count": null,
      "outputs": []
    }
  ]
}