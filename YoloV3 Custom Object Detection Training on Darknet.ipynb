{
  "nbformat": 4,
  "nbformat_minor": 0,
  "metadata": {
    "colab": {
      "name": "YoloV3 Custom Object Detection.ipynb adlı not defterinin kopyası",
      "provenance": [],
      "collapsed_sections": [],
      "include_colab_link": true
    },
    "kernelspec": {
      "name": "python3",
      "display_name": "Python 3"
    },
    "accelerator": "GPU"
  },
  "cells": [
    {
      "cell_type": "markdown",
      "metadata": {
        "id": "view-in-github",
        "colab_type": "text"
      },
      "source": [
        "<a href=\"https://colab.research.google.com/github/irfanbykara/Machine-Learning-Notebooks/blob/main/YoloV3%20Custom%20Object%20Detection%20Training%20on%20Darknet.ipynb\" target=\"_parent\"><img src=\"https://colab.research.google.com/assets/colab-badge.svg\" alt=\"Open In Colab\"/></a>"
      ]
    },
    {
      "cell_type": "markdown",
      "metadata": {
        "id": "XeJosUzaTMRV"
      },
      "source": [
        "#  YOLOV3 CUSTOM OBJECT DETECTION WITH DARKNET\n",
        "\n",
        "---\n",
        "\n",
        "This is a ready-to-use code block to train YoloV3 dataset on free-gpu for object detection."
      ]
    },
    {
      "cell_type": "code",
      "metadata": {
        "id": "VnZfG_hJTxeX",
        "colab": {
          "base_uri": "https://localhost:8080/"
        },
        "outputId": "15ee22c0-779f-4e01-ebe8-2db1200b4149"
      },
      "source": [
        "#Cloning darknet framework to train our dataset .\n",
        "!git clone https://github.com/AlexeyAB/darknet"
      ],
      "execution_count": null,
      "outputs": [
        {
          "output_type": "stream",
          "name": "stdout",
          "text": [
            "fatal: destination path 'darknet' already exists and is not an empty directory.\n"
          ]
        }
      ]
    },
    {
      "cell_type": "code",
      "metadata": {
        "id": "PVlEki6JUTRR",
        "colab": {
          "base_uri": "https://localhost:8080/"
        },
        "outputId": "27d66834-ccd1-4c0f-abd5-b3b50dc544d3"
      },
      "source": [
        "# Using GPU \n",
        "%cd darknet\n",
        "!sed -i 's/OPENCV=0/OPENCV=1/' Makefile\n",
        "!sed -i 's/GPU=0/GPU=1/' Makefile\n",
        "!sed -i 's/CUDNN=0/CUDNN=1/' Makefile"
      ],
      "execution_count": null,
      "outputs": [
        {
          "output_type": "stream",
          "name": "stdout",
          "text": [
            "/content/darknet\n"
          ]
        }
      ]
    },
    {
      "cell_type": "code",
      "metadata": {
        "id": "r-NfB4WYUkmf"
      },
      "source": [
        "#Darknet Build\n",
        "!make"
      ],
      "execution_count": null,
      "outputs": []
    },
    {
      "cell_type": "code",
      "metadata": {
        "id": "8KFemVLnWlV1"
      },
      "source": [
        "#Showing images and plotting boxes if any object is detected.\n",
        "def imShow(path):\n",
        "  import cv2\n",
        "  import matplotlib.pyplot as plt\n",
        "  %matplotlib inline\n",
        "\n",
        "  image = cv2.imread(path)\n",
        "  height, width = image.shape[:2]\n",
        "  resized_image = cv2.resize(image,(3*width, 3*height), interpolation = cv2.INTER_CUBIC)\n",
        "\n",
        "  fig = plt.gcf()\n",
        "  fig.set_size_inches(18, 10)\n",
        "  plt.axis(\"off\")\n",
        "  plt.imshow(cv2.cvtColor(resized_image, cv2.COLOR_BGR2RGB))\n",
        "  plt.show()\n",
        "\n",
        "\n",
        "# use this to download a file  \n",
        "def download(path):\n",
        "  from google.colab import files\n",
        "  files.download(path)"
      ],
      "execution_count": null,
      "outputs": []
    },
    {
      "cell_type": "code",
      "metadata": {
        "id": "FzrcORL7Sq9r",
        "colab": {
          "base_uri": "https://localhost:8080/"
        },
        "outputId": "653bc12f-5507-48bf-d85f-b286e69e7931"
      },
      "source": [
        "#We are going to connect to our drive to get the related files and data.\n",
        "%cd ..\n",
        "from google.colab import drive\n",
        "drive.mount('/content/gdrive')"
      ],
      "execution_count": null,
      "outputs": [
        {
          "output_type": "stream",
          "name": "stdout",
          "text": [
            "/content\n",
            "Drive already mounted at /content/gdrive; to attempt to forcibly remount, call drive.mount(\"/content/gdrive\", force_remount=True).\n"
          ]
        }
      ]
    },
    {
      "cell_type": "code",
      "metadata": {
        "id": "hTqqqvFFTQU0",
        "outputId": "1634571f-bdce-42c6-ddce-993bc90a41e1",
        "colab": {
          "base_uri": "https://localhost:8080/"
        }
      },
      "source": [
        "!ln -s /content/gdrive/My\\ Drive/ /mydrive\n",
        "!ls /mydrive"
      ],
      "execution_count": null,
      "outputs": [
        {
          "output_type": "stream",
          "name": "stdout",
          "text": [
            "ln: failed to create symbolic link '/mydrive/My Drive': File exists\n",
            "'Colab Notebooks'  'My Drive'   yolov3\n"
          ]
        }
      ]
    },
    {
      "cell_type": "code",
      "metadata": {
        "id": "18TgTwZ8h06_",
        "outputId": "75742a29-3b71-4f7e-910d-84c44ae92389",
        "colab": {
          "base_uri": "https://localhost:8080/"
        }
      },
      "source": [
        "#Seeing what is inside our folder\n",
        "!ls /mydrive/yolov3"
      ],
      "execution_count": null,
      "outputs": [
        {
          "output_type": "stream",
          "name": "stdout",
          "text": [
            "coffee2.jfif\t   images.zip  obj.zip\n",
            "coffee.jpg\t   obj.data    yolov3_custom.cfg\n",
            "generate_train.py  obj.names   yolov3_custom_last.weights\n"
          ]
        }
      ]
    },
    {
      "cell_type": "code",
      "metadata": {
        "id": "wcqczh9Oh-2w",
        "outputId": "d804539e-2ad9-4ff9-8708-b7847a84dda8",
        "colab": {
          "base_uri": "https://localhost:8080/"
        }
      },
      "source": [
        "#Getting obj.zip file.\n",
        "%cd darknet/\n",
        "!cp /mydrive/yolov3/obj.zip ../"
      ],
      "execution_count": null,
      "outputs": [
        {
          "output_type": "stream",
          "name": "stdout",
          "text": [
            "[Errno 20] Not a directory: 'darknet/'\n",
            "/content/darknet\n"
          ]
        }
      ]
    },
    {
      "cell_type": "code",
      "metadata": {
        "id": "w9q1RYJXiG41"
      },
      "source": [
        "#Unzip the obj file.\n",
        "!unzip ../obj.zip -d data/"
      ],
      "execution_count": null,
      "outputs": []
    },
    {
      "cell_type": "markdown",
      "metadata": {
        "id": "ZlFRbSo5kslN"
      },
      "source": [
        "*-Config Dosyası*"
      ]
    },
    {
      "cell_type": "code",
      "metadata": {
        "id": "pJT4n_kVjsi-",
        "outputId": "7dd23a7e-af20-4974-cd19-af4c5a0a5140",
        "colab": {
          "base_uri": "https://localhost:8080/"
        }
      },
      "source": [
        "#Copy the config file to the drive\n",
        "!cp cfg/yolov3.cfg /mydrive/yolov3/yolov3_custom.cfg"
      ],
      "execution_count": null,
      "outputs": [
        {
          "output_type": "stream",
          "name": "stdout",
          "text": [
            "cp: cannot stat 'cfg/yolov3.cfg': No such file or directory\n"
          ]
        }
      ]
    },
    {
      "cell_type": "code",
      "metadata": {
        "id": "muh-NQIXkZwA"
      },
      "source": [
        "#Get the prepared config file\n",
        "!cp /mydrive/yolov3/yolov3_custom.cfg ./cfg"
      ],
      "execution_count": null,
      "outputs": []
    },
    {
      "cell_type": "code",
      "metadata": {
        "id": "aMdJiafUpLjG"
      },
      "source": [
        "#Files from drive to colab.\n",
        "!cp /mydrive/yolov3/obj.names ./data\n",
        "!cp /mydrive/yolov3/obj.data  ./data"
      ],
      "execution_count": null,
      "outputs": []
    },
    {
      "cell_type": "markdown",
      "metadata": {
        "id": "pX7jpDxspy_4"
      },
      "source": [
        "*-Train File*\n",
        "\n",
        "\n",
        "generate_train.py\n",
        "\n",
        "\n",
        "\n",
        "```\n",
        "import os\n",
        "image_files = []\n",
        "os.chdir(os.path.join(\"data\", \"obj\"))\n",
        "for filename in os.listdir(os.getcwd()):\n",
        "    if filename.endswith(\".jpg\"):\n",
        "        image_files.append(\"data/obj/\" + filename)\n",
        "os.chdir(\"..\")\n",
        "with open(\"train.txt\", \"w\") as outfile:\n",
        "    for image in image_files:\n",
        "        outfile.write(image)\n",
        "        outfile.write(\"\\n\")\n",
        "    outfile.close()\n",
        "os.chdir(\"..\")\n",
        "```\n",
        "\n"
      ]
    },
    {
      "cell_type": "code",
      "metadata": {
        "id": "gKlMYV4uqqwF"
      },
      "source": [
        "#Copying generate.py to drive.\n",
        "!cp /mydrive/yolov3/generate_train.py ./"
      ],
      "execution_count": null,
      "outputs": []
    },
    {
      "cell_type": "code",
      "metadata": {
        "id": "wI5yz0uhq5Wa"
      },
      "source": [
        "#Running the generate_train.py\n",
        "!python generate_train.py"
      ],
      "execution_count": null,
      "outputs": []
    },
    {
      "cell_type": "code",
      "metadata": {
        "id": "fc618em3s4Yd"
      },
      "source": [
        "#Fetching pre-trained weights.\n",
        "!wget http://pjreddie.com/media/files/darknet53.conv.74"
      ],
      "execution_count": null,
      "outputs": []
    },
    {
      "cell_type": "markdown",
      "metadata": {
        "id": "OJVgpJDiu6or"
      },
      "source": [
        "\n",
        "\n",
        "```\n",
        "# Bu, kod olarak biçimlendirilmiştir\n",
        "```\n",
        "Training will take a long time and server can throw us. In order to prevent this, let's copy the script below to Console of the web browser.\n",
        "\n",
        "```\n",
        "function ClickConnect(){\n",
        "console.log(\"Working\"); \n",
        "document.querySelector(\"colab-toolbar-button#connect\").click() \n",
        "}\n",
        "setInterval(ClickConnect,60000)\n",
        "```"
      ]
    },
    {
      "cell_type": "code",
      "metadata": {
        "id": "JW_itn-fwbMw"
      },
      "source": [
        "#Train the dataset.\n",
        "!./darknet detector train data/obj.data cfg/yolov3_custom.cfg  -dont_show"
      ],
      "execution_count": null,
      "outputs": []
    },
    {
      "cell_type": "code",
      "metadata": {
        "id": "jAa2df0gzxbP"
      },
      "source": [
        "#We can continue training our model from where we left \n",
        "!./darknet detector train data/obj.data cfg/yolov3_custom.cfg /mydrive/yolov3/yolov3_custom_last.weights -dont_show"
      ],
      "execution_count": null,
      "outputs": []
    },
    {
      "cell_type": "code",
      "metadata": {
        "id": "jrSqBzre1YSN",
        "outputId": "0f3e11d9-b906-4534-ed27-b3b3fa4f9537",
        "colab": {
          "base_uri": "https://localhost:8080/"
        }
      },
      "source": [
        "#Config file for the test.\n",
        "%cd cfg\n",
        "!sed -i 's/batch=64/batch=1/' yolov3_custom.cfg\n",
        "!sed -i 's/subdivisions=16/subdivisions=1/' yolov3_custom.cfg\n",
        "%cd ..\n"
      ],
      "execution_count": null,
      "outputs": [
        {
          "output_type": "stream",
          "name": "stdout",
          "text": [
            "/content/darknet/cfg\n",
            "/content/darknet\n"
          ]
        }
      ]
    },
    {
      "cell_type": "code",
      "metadata": {
        "id": "xB-L3uF51iky"
      },
      "source": [
        "#Predict\n",
        "!./darknet detector test data/obj.data cfg/yolov3_custom.cfg /mydrive/yolov3/yolov3_custom_last.weights /mydrive/yolov3/knife3.jpg -thresh 0.03\n",
        "imShow('predictions.jpg')"
      ],
      "execution_count": null,
      "outputs": []
    },
    {
      "cell_type": "code",
      "metadata": {
        "id": "jdm8A3S_eMTM"
      },
      "source": [
        "#Download prediction.\n",
        "%cd /content/darknet\n",
        "download('predictions.jpg')"
      ],
      "execution_count": null,
      "outputs": []
    }
  ]
}